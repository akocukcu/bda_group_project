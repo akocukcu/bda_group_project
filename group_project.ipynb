{
 "cells": [
  {
   "cell_type": "markdown",
   "metadata": {},
   "source": [
    "<img src=\"http://millionsongdataset.com/sites/default/files/millionsong2-128.jpg\">\n",
    "\n",
    "# <center> GROUP PROJECT: Million Song Dataset Analysis\n",
    "\n",
    "### <center>FROM ACQUISITION TO SUMMARIZATION/VISUALIZATION: THE LIFE-CYCLE OF A REASONABLY LARGE DATASET\n",
    "    \n",
    "<center>Contributors: Murat Turkoglu, Onur Temur, Abdurrahman Kocukcu"
   ]
  },
  {
   "cell_type": "markdown",
   "metadata": {},
   "source": [
    "### Project\n",
    "In this group project we have used and analyzed Million Song Dataset (MSD)."
   ]
  },
  {
   "cell_type": "markdown",
   "metadata": {},
   "source": [
    "### Dataset Resource:\n",
    "- http://millionsongdataset.com/\n",
    "\n",
    "\n",
    "Principally, the dataset consists of almost all the information available through The Echo Nest API for one million popular tracks. This encompasses both metadata and audio analysis features. Each file is for one track which corresponds to one song, one release and one artist. All the information about these four items (track, song, release, artist) are in every file (which involves some redundancy, although the bulk of the data, relating to the audio analysis, is unique)."
   ]
  },
  {
   "cell_type": "markdown",
   "metadata": {},
   "source": [
    "### Statistics of the dataset\n",
    "- 1,000,000 songs / files\n",
    "- 273 GB of data\n",
    "- 44,745 unique artists\n",
    "- 7,643 unique terms (The Echo Nest tags)\n",
    "- 2,321 unique musicbrainz tags\n",
    "- 43,943 artists with at least one term\n",
    "- 2,201,916 asymmetric similarity relationships\n",
    "- 515,576 dated tracks starting from 1922\n",
    "- 18,196 cover songs identified"
   ]
  },
  {
   "cell_type": "markdown",
   "metadata": {},
   "source": [
    "### Important Note:\n",
    "There are couple of versions and subsets of the original data. \n",
    "\n",
    "Such as \n",
    "\n",
    "- MILLION SONG SUBSET (http://millionsongdataset.com/pages/getting-dataset/#subset)\n",
    "\n",
    "or\n",
    "\n",
    "- original h5 files (http://millionsongdataset.com/pages/example-track-description/)\n",
    "http://millionsongdataset.com/sites/default/files/AdditionalFiles/TRAXLZU12903D05F94.h5\n",
    "\n",
    "\n",
    "\n",
    "However in this project we have used all (post-created) txt files and sqllite db files. Which is available under http://millionsongdataset.com/sites/default/files/AdditionalFiles/ folder.\n",
    "\n",
    "\n",
    "We think, files under this folder is ideal for this kind of master project.\n",
    "\n",
    "\n",
    "But also we have prepared a repo on how to use and process subset data (h5 files).\n",
    "https://github.com/muratturkoglu78/MillionSongDataset"
   ]
  },
  {
   "cell_type": "markdown",
   "metadata": {},
   "source": [
    "### Entity Relationship Diagram\n",
    "\n",
    "<img src=\"https://raw.githubusercontent.com/akocukcu/bda_group_project/master/bda_group_project.png\">"
   ]
  },
  {
   "cell_type": "markdown",
   "metadata": {},
   "source": [
    "### Collecting Data"
   ]
  },
  {
   "cell_type": "code",
   "execution_count": 7,
   "metadata": {},
   "outputs": [],
   "source": [
    "# Before collecting the data files, let's create our file directory:\n",
    "!mkdir data_files"
   ]
  },
  {
   "cell_type": "code",
   "execution_count": null,
   "metadata": {},
   "outputs": [],
   "source": [
    "# collect: artist_location\n",
    "!curl --user-agent \"Chrome/81.0.4044.138\" -o ./data_files/artist_location.txt http://millionsongdataset.com/sites/default/files/AdditionalFiles/artist_location.txt"
   ]
  },
  {
   "cell_type": "code",
   "execution_count": null,
   "metadata": {},
   "outputs": [],
   "source": [
    "# collect: artist_similarity\n",
    "!curl --user-agent \"Chrome/81.0.4044.138\" -o ./data_files/artist_similarity.db http://www.ee.columbia.edu/~thierry/artist_similarity.db"
   ]
  },
  {
   "cell_type": "code",
   "execution_count": null,
   "metadata": {},
   "outputs": [],
   "source": [
    "# collect: track_metadata\n",
    "!curl --user-agent \"Chrome/81.0.4044.138\" -o ./data_files/track_metadata.db http://millionsongdataset.com/sites/default/files/AdditionalFiles/track_metadata.db"
   ]
  },
  {
   "cell_type": "code",
   "execution_count": null,
   "metadata": {},
   "outputs": [],
   "source": [
    "# collect: artist_term\n",
    "!curl --user-agent \"Chrome/81.0.4044.138\" -o ./data_files/artist_term.db http://www.ee.columbia.edu/~thierry/artist_term.db"
   ]
  },
  {
   "cell_type": "code",
   "execution_count": null,
   "metadata": {},
   "outputs": [],
   "source": [
    "# collect: msd_genre_dataset\n",
    "!curl --user-agent \"Chrome/81.0.4044.138\" -o ./data_files/msd_genre_dataset.zip http://millionsongdataset.com/sites/default/files/AdditionalFiles/msd_genre_dataset.zip\n",
    "!unzip msd_genre_dataset.zip"
   ]
  },
  {
   "cell_type": "code",
   "execution_count": null,
   "metadata": {},
   "outputs": [],
   "source": [
    "# collect: unique_artists\n",
    "!curl --user-agent \"Chrome/81.0.4044.138\" -o ./data_files/unique_artists.txt http://millionsongdataset.com/sites/default/files/AdditionalFiles/unique_artists.txt"
   ]
  },
  {
   "cell_type": "markdown",
   "metadata": {},
   "source": [
    "### Cleaning-Transforming Data"
   ]
  },
  {
   "cell_type": "markdown",
   "metadata": {},
   "source": [
    "In this dataset we don't need to apply any statistical cleaning (such as removing outliers or missing values).\n",
    "\n",
    "\n",
    "So we will directly start transforming and importing data."
   ]
  },
  {
   "cell_type": "code",
   "execution_count": 21,
   "metadata": {},
   "outputs": [],
   "source": [
    "# For both txt and db files, we are going to convert stage data as csv files.\n",
    "# Rest will be only importing (ready) csv files to postgresql database"
   ]
  },
  {
   "cell_type": "code",
   "execution_count": null,
   "metadata": {},
   "outputs": [],
   "source": [
    "!pip install pandas==1.0.3"
   ]
  },
  {
   "cell_type": "code",
   "execution_count": null,
   "metadata": {},
   "outputs": [],
   "source": [
    "!pip install matplotlib==3.2.1"
   ]
  },
  {
   "cell_type": "code",
   "execution_count": 7,
   "metadata": {},
   "outputs": [],
   "source": [
    "# we are going to use pandas as our reader-writer for txt and csv files.\n",
    "import pandas as pd\n",
    "import matplotlib.pyplot as plt"
   ]
  },
  {
   "cell_type": "code",
   "execution_count": 32,
   "metadata": {},
   "outputs": [
    {
     "name": "stderr",
     "output_type": "stream",
     "text": [
      "/Users/abdurrahmankocukcu/anaconda3/lib/python3.7/site-packages/ipykernel_launcher.py:2: ParserWarning: Falling back to the 'python' engine because the 'c' engine does not support regex separators (separators > 1 char and different from '\\s+' are interpreted as regex); you can avoid this warning by specifying engine='python'.\n",
      "  \n"
     ]
    }
   ],
   "source": [
    "# convert artist_location to csv\n",
    "df = pd.read_csv(\"./data_files/artist_location.txt\", sep='<SEP>',header=None)\n",
    "df.to_csv('./data_files/artist_location_cleared.csv',index=False,header=False)"
   ]
  },
  {
   "cell_type": "code",
   "execution_count": null,
   "metadata": {},
   "outputs": [],
   "source": [
    "# check if line counts are same:\n",
    "!wc -l ./data_files/artist_location.txt\n",
    "!wc -l ./data_files/artist_location_cleared.csv"
   ]
  },
  {
   "cell_type": "code",
   "execution_count": null,
   "metadata": {},
   "outputs": [],
   "source": []
  },
  {
   "cell_type": "code",
   "execution_count": null,
   "metadata": {},
   "outputs": [],
   "source": [
    "# convert unique_artists to csv\n",
    "df = pd.read_csv(\"./data_files/unique_artists.txt\", sep='<SEP>',header=None)\n",
    "df.to_csv('./data_files/unique_artists_cleared.csv',index=False,header=False)"
   ]
  },
  {
   "cell_type": "code",
   "execution_count": null,
   "metadata": {},
   "outputs": [],
   "source": [
    "# check if line counts are same:\n",
    "!wc -l ./data_files/unique_artists.txt\n",
    "!wc -l ./data_files/unique_artists_cleared.csv"
   ]
  },
  {
   "cell_type": "code",
   "execution_count": null,
   "metadata": {},
   "outputs": [],
   "source": []
  },
  {
   "cell_type": "code",
   "execution_count": 41,
   "metadata": {},
   "outputs": [],
   "source": [
    "# convert msd_genre_dataset to csv\n",
    "# This txt file starts with a description in first 10 rows. So we will skip them...\n",
    "df = pd.read_csv(\"./data_files/msd_genre_dataset.txt\", sep=',',header=None, skiprows=10)\n",
    "df.to_csv('./data_files/msd_genre_dataset_cleared.csv',index=False,header=False)"
   ]
  },
  {
   "cell_type": "code",
   "execution_count": null,
   "metadata": {},
   "outputs": [],
   "source": [
    "# check if line counts are same:\n",
    "!wc -l ./data_files/msd_genre_dataset.txt\n",
    "!wc -l ./data_files/msd_genre_dataset_cleared.csv"
   ]
  },
  {
   "cell_type": "code",
   "execution_count": null,
   "metadata": {},
   "outputs": [],
   "source": []
  },
  {
   "cell_type": "code",
   "execution_count": 42,
   "metadata": {},
   "outputs": [],
   "source": [
    "# we are going to use default sqlite3 module to connect sqlite databases and read its tables\n",
    "import sqlite3"
   ]
  },
  {
   "cell_type": "code",
   "execution_count": 43,
   "metadata": {},
   "outputs": [
    {
     "data": {
      "text/html": [
       "<div>\n",
       "<style scoped>\n",
       "    .dataframe tbody tr th:only-of-type {\n",
       "        vertical-align: middle;\n",
       "    }\n",
       "\n",
       "    .dataframe tbody tr th {\n",
       "        vertical-align: top;\n",
       "    }\n",
       "\n",
       "    .dataframe thead th {\n",
       "        text-align: right;\n",
       "    }\n",
       "</style>\n",
       "<table border=\"1\" class=\"dataframe\">\n",
       "  <thead>\n",
       "    <tr style=\"text-align: right;\">\n",
       "      <th></th>\n",
       "      <th>name</th>\n",
       "    </tr>\n",
       "  </thead>\n",
       "  <tbody>\n",
       "    <tr>\n",
       "      <td>0</td>\n",
       "      <td>songs</td>\n",
       "    </tr>\n",
       "  </tbody>\n",
       "</table>\n",
       "</div>"
      ],
      "text/plain": [
       "    name\n",
       "0  songs"
      ]
     },
     "execution_count": 43,
     "metadata": {},
     "output_type": "execute_result"
    }
   ],
   "source": [
    "# Let's have a look at track_metadata db's tables:\n",
    "conn = sqlite3.connect(\"./data_files/track_metadata.db\")\n",
    "sql_query = \"SELECT name FROM sqlite_master WHERE type ='table' AND name NOT LIKE 'sqlite_%';\"\n",
    "pd.read_sql_query(sql=sql_query,con=conn)"
   ]
  },
  {
   "cell_type": "code",
   "execution_count": null,
   "metadata": {},
   "outputs": [],
   "source": [
    "# There is only songs table. Count records:\n",
    "sql_query = \"SELECT count(*) from songs;\"\n",
    "pd.read_sql_query(sql=sql_query,con=conn)"
   ]
  },
  {
   "cell_type": "code",
   "execution_count": 47,
   "metadata": {},
   "outputs": [],
   "source": [
    "# Let's export it as csv.\n",
    "sql_query = \"SELECT * from songs;\"\n",
    "df = pd.read_sql_query(sql=sql_query,con=conn)\n",
    "df.to_csv('./data_files/track_metadata_cleared.csv',index=False,header=False)"
   ]
  },
  {
   "cell_type": "code",
   "execution_count": null,
   "metadata": {},
   "outputs": [],
   "source": [
    "# check csv record counts\n",
    "!wc -l ./data_files/track_metadata_cleared.csv"
   ]
  },
  {
   "cell_type": "code",
   "execution_count": null,
   "metadata": {},
   "outputs": [],
   "source": []
  },
  {
   "cell_type": "code",
   "execution_count": 57,
   "metadata": {},
   "outputs": [
    {
     "data": {
      "text/html": [
       "<div>\n",
       "<style scoped>\n",
       "    .dataframe tbody tr th:only-of-type {\n",
       "        vertical-align: middle;\n",
       "    }\n",
       "\n",
       "    .dataframe tbody tr th {\n",
       "        vertical-align: top;\n",
       "    }\n",
       "\n",
       "    .dataframe thead th {\n",
       "        text-align: right;\n",
       "    }\n",
       "</style>\n",
       "<table border=\"1\" class=\"dataframe\">\n",
       "  <thead>\n",
       "    <tr style=\"text-align: right;\">\n",
       "      <th></th>\n",
       "      <th>name</th>\n",
       "    </tr>\n",
       "  </thead>\n",
       "  <tbody>\n",
       "    <tr>\n",
       "      <td>0</td>\n",
       "      <td>artists</td>\n",
       "    </tr>\n",
       "    <tr>\n",
       "      <td>1</td>\n",
       "      <td>similarity</td>\n",
       "    </tr>\n",
       "  </tbody>\n",
       "</table>\n",
       "</div>"
      ],
      "text/plain": [
       "         name\n",
       "0     artists\n",
       "1  similarity"
      ]
     },
     "execution_count": 57,
     "metadata": {},
     "output_type": "execute_result"
    }
   ],
   "source": [
    "# Let's have a look at artist_similarity db's tables:\n",
    "conn = sqlite3.connect(\"./data_files/artist_similarity.db\")\n",
    "sql_query = \"SELECT name FROM sqlite_master WHERE type ='table' AND name NOT LIKE 'sqlite_%';\"\n",
    "pd.read_sql_query(sql=sql_query,con=conn)"
   ]
  },
  {
   "cell_type": "code",
   "execution_count": null,
   "metadata": {},
   "outputs": [],
   "source": [
    "# We will only use similarity table. Count records\n",
    "sql_query = \"SELECT count(*) from similarity;\"\n",
    "pd.read_sql_query(sql=sql_query,con=conn)"
   ]
  },
  {
   "cell_type": "code",
   "execution_count": 58,
   "metadata": {},
   "outputs": [],
   "source": [
    "# Let's export it as csv.\n",
    "sql_query = \"SELECT * from similarity;\"\n",
    "df = pd.read_sql_query(sql=sql_query,con=conn)\n",
    "df.to_csv('./data_files/artist_similarity_cleared.csv',index=False,header=False)"
   ]
  },
  {
   "cell_type": "code",
   "execution_count": null,
   "metadata": {},
   "outputs": [],
   "source": [
    "# check csv record counts\n",
    "!wc -l ./data_files/artist_similarity_cleared.csv"
   ]
  },
  {
   "cell_type": "code",
   "execution_count": null,
   "metadata": {},
   "outputs": [],
   "source": []
  },
  {
   "cell_type": "code",
   "execution_count": 60,
   "metadata": {},
   "outputs": [
    {
     "data": {
      "text/html": [
       "<div>\n",
       "<style scoped>\n",
       "    .dataframe tbody tr th:only-of-type {\n",
       "        vertical-align: middle;\n",
       "    }\n",
       "\n",
       "    .dataframe tbody tr th {\n",
       "        vertical-align: top;\n",
       "    }\n",
       "\n",
       "    .dataframe thead th {\n",
       "        text-align: right;\n",
       "    }\n",
       "</style>\n",
       "<table border=\"1\" class=\"dataframe\">\n",
       "  <thead>\n",
       "    <tr style=\"text-align: right;\">\n",
       "      <th></th>\n",
       "      <th>name</th>\n",
       "    </tr>\n",
       "  </thead>\n",
       "  <tbody>\n",
       "    <tr>\n",
       "      <td>0</td>\n",
       "      <td>artists</td>\n",
       "    </tr>\n",
       "    <tr>\n",
       "      <td>1</td>\n",
       "      <td>terms</td>\n",
       "    </tr>\n",
       "    <tr>\n",
       "      <td>2</td>\n",
       "      <td>artist_term</td>\n",
       "    </tr>\n",
       "    <tr>\n",
       "      <td>3</td>\n",
       "      <td>mbtags</td>\n",
       "    </tr>\n",
       "    <tr>\n",
       "      <td>4</td>\n",
       "      <td>artist_mbtag</td>\n",
       "    </tr>\n",
       "  </tbody>\n",
       "</table>\n",
       "</div>"
      ],
      "text/plain": [
       "           name\n",
       "0       artists\n",
       "1         terms\n",
       "2   artist_term\n",
       "3        mbtags\n",
       "4  artist_mbtag"
      ]
     },
     "execution_count": 60,
     "metadata": {},
     "output_type": "execute_result"
    }
   ],
   "source": [
    "# Let's have a look at artist_term db's tables:\n",
    "conn = sqlite3.connect(\"./data_files/artist_term.db\")\n",
    "sql_query = \"SELECT name FROM sqlite_master WHERE type ='table' AND name NOT LIKE 'sqlite_%';\"\n",
    "pd.read_sql_query(sql=sql_query,con=conn)"
   ]
  },
  {
   "cell_type": "code",
   "execution_count": null,
   "metadata": {},
   "outputs": [],
   "source": [
    "# we will use artist_term and artist_mbtag. Count records"
   ]
  },
  {
   "cell_type": "code",
   "execution_count": null,
   "metadata": {},
   "outputs": [],
   "source": [
    "sql_query = \"SELECT count(*) from artist_term;\"\n",
    "pd.read_sql_query(sql=sql_query,con=conn)"
   ]
  },
  {
   "cell_type": "code",
   "execution_count": null,
   "metadata": {},
   "outputs": [],
   "source": [
    "sql_query = \"SELECT count(*) from artist_mbtag;\"\n",
    "pd.read_sql_query(sql=sql_query,con=conn)"
   ]
  },
  {
   "cell_type": "code",
   "execution_count": 61,
   "metadata": {},
   "outputs": [],
   "source": [
    "# Let's export them as csv.\n",
    "sql_query = \"SELECT * from artist_term;\"\n",
    "df = pd.read_sql_query(sql=sql_query,con=conn)\n",
    "df.to_csv('./data_files/artist_term_cleared.csv',index=False,header=False)\n",
    "\n",
    "sql_query = \"SELECT * from artist_mbtag;\"\n",
    "df = pd.read_sql_query(sql=sql_query,con=conn)\n",
    "df.to_csv('./data_files/artist_mbtag_cleared.csv',index=False,header=False)"
   ]
  },
  {
   "cell_type": "code",
   "execution_count": 74,
   "metadata": {},
   "outputs": [
    {
     "name": "stdout",
     "output_type": "stream",
     "text": [
      " 1109381 ./data_files/artist_term_cleared.csv\n",
      "   24777 ./data_files/artist_mbtag_cleared.csv\n"
     ]
    }
   ],
   "source": [
    "# check csv record counts\n",
    "!wc -l ./data_files/artist_term_cleared.csv\n",
    "!wc -l ./data_files/artist_mbtag_cleared.csv"
   ]
  },
  {
   "cell_type": "code",
   "execution_count": null,
   "metadata": {},
   "outputs": [],
   "source": []
  },
  {
   "cell_type": "code",
   "execution_count": 4,
   "metadata": {},
   "outputs": [
    {
     "name": "stdout",
     "output_type": "stream",
     "text": [
      "-rw-r--r--@ 1 abdurrahmankocukcu  staff     997589 May 19 16:14 ./data_files/artist_location_cleared.csv\r\n",
      "-rw-r--r--@ 1 abdurrahmankocukcu  staff     720390 May 19 17:51 ./data_files/artist_mbtag_cleared.csv\r\n",
      "-rw-r--r--@ 1 abdurrahmankocukcu  staff   83672808 May 19 17:49 ./data_files/artist_similarity_cleared.csv\r\n",
      "-rw-r--r--@ 1 abdurrahmankocukcu  staff   31695306 May 19 17:51 ./data_files/artist_term_cleared.csv\r\n",
      "-rw-r--r--@ 1 abdurrahmankocukcu  staff   28417031 May 19 16:36 ./data_files/msd_genre_dataset_cleared.csv\r\n",
      "-rw-r--r--@ 1 abdurrahmankocukcu  staff  202062587 May 19 17:42 ./data_files/track_metadata_cleared.csv\r\n",
      "-rw-r--r--@ 1 abdurrahmankocukcu  staff    3825680 May 19 16:27 ./data_files/unique_artists_cleared.csv\r\n"
     ]
    }
   ],
   "source": [
    "# Cleaning and staging data is finished. We can review our final csv files:\n",
    "!ls -l ./data_files/*_cleared.csv"
   ]
  },
  {
   "cell_type": "code",
   "execution_count": null,
   "metadata": {},
   "outputs": [],
   "source": []
  },
  {
   "cell_type": "markdown",
   "metadata": {},
   "source": [
    "### Creating and Importing Data to Postgresql Tables "
   ]
  },
  {
   "cell_type": "code",
   "execution_count": 77,
   "metadata": {},
   "outputs": [],
   "source": [
    "# Until now we have not worked on postgresql. Let's connect and start.\n",
    "!sudo service postgresql start\n",
    "# note: if you encounter any error, (due to OS) then it is better to start postgres outside notebook"
   ]
  },
  {
   "cell_type": "code",
   "execution_count": 1,
   "metadata": {},
   "outputs": [
    {
     "name": "stdout",
     "output_type": "stream",
     "text": [
      "                                            List of databases\r\n",
      "        Name         |       Owner        | Encoding |   Collate   |    Ctype    |   Access privileges   \r\n",
      "---------------------+--------------------+----------+-------------+-------------+-----------------------\r\n",
      " abdurrahmankocukcu  | abdurrahmankocukcu | UTF8     | en_US.UTF-8 | en_US.UTF-8 | \r\n",
      " millionsongdatabase | abdurrahmankocukcu | UTF8     | en_US.UTF-8 | en_US.UTF-8 | \r\n",
      " msddatabase         | postgres           | UTF8     | en_US.UTF-8 | en_US.UTF-8 | \r\n",
      " postgres            | postgres           | UTF8     | en_US.UTF-8 | en_US.UTF-8 | \r\n",
      " sparkifydb          | abdurrahmankocukcu | UTF8     | en_US.UTF-8 | en_US.UTF-8 | \r\n",
      " template0           | postgres           | UTF8     | en_US.UTF-8 | en_US.UTF-8 | =c/postgres          +\r\n",
      "                     |                    |          |             |             | postgres=CTc/postgres\r\n",
      " template1           | postgres           | UTF8     | en_US.UTF-8 | en_US.UTF-8 | =c/postgres          +\r\n",
      "                     |                    |          |             |             | postgres=CTc/postgres\r\n",
      "(7 rows)\r\n",
      "\r\n"
     ]
    }
   ],
   "source": [
    "# List the existing databases:\n",
    "!psql -U postgres -c \"\\l\""
   ]
  },
  {
   "cell_type": "code",
   "execution_count": 83,
   "metadata": {},
   "outputs": [],
   "source": [
    "# enable the sql magic on python kernel:\n",
    "!pip install ipython-sql==0.4.0"
   ]
  },
  {
   "cell_type": "code",
   "execution_count": 1,
   "metadata": {},
   "outputs": [],
   "source": [
    "%load_ext sql"
   ]
  },
  {
   "cell_type": "code",
   "execution_count": null,
   "metadata": {},
   "outputs": [],
   "source": [
    "!pip install psycopg2==2.8.5"
   ]
  },
  {
   "cell_type": "code",
   "execution_count": 92,
   "metadata": {},
   "outputs": [],
   "source": [
    "%sql postgres://postgres@localhost/postgres"
   ]
  },
  {
   "cell_type": "markdown",
   "metadata": {},
   "source": [
    "__Let's create our database__"
   ]
  },
  {
   "cell_type": "code",
   "execution_count": 93,
   "metadata": {},
   "outputs": [
    {
     "name": "stdout",
     "output_type": "stream",
     "text": [
      "   postgres://postgres@localhost/millionsongdatabase\n",
      " * postgres://postgres@localhost/postgres\n",
      "Done.\n",
      "Done.\n"
     ]
    },
    {
     "data": {
      "text/plain": [
       "[]"
      ]
     },
     "execution_count": 93,
     "metadata": {},
     "output_type": "execute_result"
    }
   ],
   "source": [
    "%%sql\n",
    "-- create a new database msddatabase\n",
    "END;\n",
    "CREATE DATABASE msddatabase;"
   ]
  },
  {
   "cell_type": "markdown",
   "metadata": {},
   "source": [
    "__Connect to our new database__"
   ]
  },
  {
   "cell_type": "code",
   "execution_count": 2,
   "metadata": {},
   "outputs": [],
   "source": [
    "%sql postgres://postgres@localhost/msddatabase"
   ]
  },
  {
   "cell_type": "markdown",
   "metadata": {},
   "source": [
    "__Create Tables__"
   ]
  },
  {
   "cell_type": "code",
   "execution_count": 96,
   "metadata": {},
   "outputs": [
    {
     "name": "stdout",
     "output_type": "stream",
     "text": [
      "   postgres://postgres@localhost/millionsongdatabase\n",
      " * postgres://postgres@localhost/msddatabase\n",
      "   postgres://postgres@localhost/postgres\n",
      "Done.\n"
     ]
    },
    {
     "data": {
      "text/plain": [
       "[]"
      ]
     },
     "execution_count": 96,
     "metadata": {},
     "output_type": "execute_result"
    }
   ],
   "source": [
    "%%sql\n",
    "-- create artist_location table\n",
    "create table artist_location\n",
    "(\n",
    "    artist_id text,\n",
    "    artist_latitude double precision,\n",
    "    artist_longitude double precision,\n",
    "    artist_name text,\n",
    "    artist_location text\n",
    ");"
   ]
  },
  {
   "cell_type": "code",
   "execution_count": 99,
   "metadata": {},
   "outputs": [
    {
     "name": "stdout",
     "output_type": "stream",
     "text": [
      "   postgres://postgres@localhost/millionsongdatabase\n",
      " * postgres://postgres@localhost/msddatabase\n",
      "   postgres://postgres@localhost/postgres\n",
      "Done.\n"
     ]
    },
    {
     "data": {
      "text/plain": [
       "[]"
      ]
     },
     "execution_count": 99,
     "metadata": {},
     "output_type": "execute_result"
    }
   ],
   "source": [
    "%%sql\n",
    "-- create artist_similarity table\n",
    "create table artist_similarity\n",
    "(\n",
    "    target_artist_id text,\n",
    "    similar_artist_id text\n",
    ");"
   ]
  },
  {
   "cell_type": "code",
   "execution_count": 100,
   "metadata": {},
   "outputs": [
    {
     "name": "stdout",
     "output_type": "stream",
     "text": [
      "   postgres://postgres@localhost/millionsongdatabase\n",
      " * postgres://postgres@localhost/msddatabase\n",
      "   postgres://postgres@localhost/postgres\n",
      "Done.\n"
     ]
    },
    {
     "data": {
      "text/plain": [
       "[]"
      ]
     },
     "execution_count": 100,
     "metadata": {},
     "output_type": "execute_result"
    }
   ],
   "source": [
    "%%sql\n",
    "-- create track_metadata table\n",
    "create table track_metadata\n",
    "(\n",
    "    track_id text,\n",
    "    title text,\n",
    "    song_id text,\n",
    "    release text,\n",
    "    artist_id text,\n",
    "    artist_mbid text,\n",
    "    artist_name text,\n",
    "    duration double precision,\n",
    "    artist_familiarity double precision,\n",
    "    artist_hotttnesss double precision,\n",
    "    year integer,\n",
    "    track_7digitalid integer,\n",
    "    shs_perf integer,\n",
    "    shs_work integer\n",
    ");"
   ]
  },
  {
   "cell_type": "code",
   "execution_count": 101,
   "metadata": {},
   "outputs": [
    {
     "name": "stdout",
     "output_type": "stream",
     "text": [
      "   postgres://postgres@localhost/millionsongdatabase\n",
      " * postgres://postgres@localhost/msddatabase\n",
      "   postgres://postgres@localhost/postgres\n",
      "Done.\n"
     ]
    },
    {
     "data": {
      "text/plain": [
       "[]"
      ]
     },
     "execution_count": 101,
     "metadata": {},
     "output_type": "execute_result"
    }
   ],
   "source": [
    "%%sql\n",
    "-- create artist_term table\n",
    "create table artist_term\n",
    "(\n",
    "    artist_id text,\n",
    "    term text\n",
    ");"
   ]
  },
  {
   "cell_type": "code",
   "execution_count": 104,
   "metadata": {},
   "outputs": [
    {
     "name": "stdout",
     "output_type": "stream",
     "text": [
      "   postgres://postgres@localhost/millionsongdatabase\n",
      " * postgres://postgres@localhost/msddatabase\n",
      "   postgres://postgres@localhost/postgres\n",
      "Done.\n"
     ]
    },
    {
     "data": {
      "text/plain": [
       "[]"
      ]
     },
     "execution_count": 104,
     "metadata": {},
     "output_type": "execute_result"
    }
   ],
   "source": [
    "%%sql\n",
    "-- create artist_mbtag table\n",
    "create table artist_mbtag\n",
    "(\n",
    "    artist_id text,\n",
    "    mbtag text\n",
    ");"
   ]
  },
  {
   "cell_type": "code",
   "execution_count": 102,
   "metadata": {},
   "outputs": [
    {
     "name": "stdout",
     "output_type": "stream",
     "text": [
      "   postgres://postgres@localhost/millionsongdatabase\n",
      " * postgres://postgres@localhost/msddatabase\n",
      "   postgres://postgres@localhost/postgres\n",
      "Done.\n"
     ]
    },
    {
     "data": {
      "text/plain": [
       "[]"
      ]
     },
     "execution_count": 102,
     "metadata": {},
     "output_type": "execute_result"
    }
   ],
   "source": [
    "%%sql\n",
    "-- create msd_genre_dataset table\n",
    "create table msd_genre_dataset\n",
    "(\n",
    "    genre text,\n",
    "    track_id text,\n",
    "    artist_name text,\n",
    "    title text,\n",
    "    loudness double precision,\n",
    "    tempo double precision,\n",
    "    time_signature integer,\n",
    "    key integer,\n",
    "    mode integer,\n",
    "    duration double precision,\n",
    "    avg_timbre1 double precision,\n",
    "    avg_timbre2 double precision,\n",
    "    avg_timbre3 double precision,\n",
    "    avg_timbre4 double precision,\n",
    "    avg_timbre5 double precision,\n",
    "    avg_timbre6 double precision,\n",
    "    avg_timbre7 double precision,\n",
    "    avg_timbre8 double precision,\n",
    "    avg_timbre9 double precision,\n",
    "    avg_timbre10 double precision,\n",
    "    avg_timbre11 double precision,\n",
    "    avg_timbre12 double precision,\n",
    "    var_timbre1 double precision,\n",
    "    var_timbre2 double precision,\n",
    "    var_timbre3 double precision,\n",
    "    var_timbre4 double precision,\n",
    "    var_timbre5 double precision,\n",
    "    var_timbre6 double precision,\n",
    "    var_timbre7 double precision,\n",
    "    var_timbre8 double precision,\n",
    "    var_timbre9 double precision,\n",
    "    var_timbre10 double precision,\n",
    "    var_timbre11 double precision,\n",
    "    var_timbre12 double precision\n",
    ");"
   ]
  },
  {
   "cell_type": "code",
   "execution_count": 103,
   "metadata": {},
   "outputs": [
    {
     "name": "stdout",
     "output_type": "stream",
     "text": [
      "   postgres://postgres@localhost/millionsongdatabase\n",
      " * postgres://postgres@localhost/msddatabase\n",
      "   postgres://postgres@localhost/postgres\n",
      "Done.\n"
     ]
    },
    {
     "data": {
      "text/plain": [
       "[]"
      ]
     },
     "execution_count": 103,
     "metadata": {},
     "output_type": "execute_result"
    }
   ],
   "source": [
    "%%sql\n",
    "-- create unique_artists table\n",
    "create table unique_artists\n",
    "(\n",
    "    artist_id text,\n",
    "    artist_mbid text,\n",
    "    track_id text,\n",
    "    artist_name text\n",
    ");"
   ]
  },
  {
   "cell_type": "markdown",
   "metadata": {},
   "source": [
    "__Import Data and Populate Tables__"
   ]
  },
  {
   "cell_type": "code",
   "execution_count": 98,
   "metadata": {},
   "outputs": [
    {
     "name": "stdout",
     "output_type": "stream",
     "text": [
      "COPY 13850\r\n"
     ]
    }
   ],
   "source": [
    "!psql -U postgres -d msddatabase -c \"\\copy artist_location from ./data_files/artist_location_cleared.csv DELIMITER ',' CSV\""
   ]
  },
  {
   "cell_type": "code",
   "execution_count": 106,
   "metadata": {},
   "outputs": [
    {
     "name": "stdout",
     "output_type": "stream",
     "text": [
      "COPY 2201916\r\n"
     ]
    }
   ],
   "source": [
    "!psql -U postgres -d msddatabase -c \"\\copy artist_similarity from ./data_files/artist_similarity_cleared.csv DELIMITER ',' CSV\""
   ]
  },
  {
   "cell_type": "code",
   "execution_count": 107,
   "metadata": {},
   "outputs": [
    {
     "name": "stdout",
     "output_type": "stream",
     "text": [
      "COPY 1000000\r\n"
     ]
    }
   ],
   "source": [
    "!psql -U postgres -d msddatabase -c \"\\copy track_metadata from ./data_files/track_metadata_cleared.csv DELIMITER ',' CSV\""
   ]
  },
  {
   "cell_type": "code",
   "execution_count": 108,
   "metadata": {},
   "outputs": [
    {
     "name": "stdout",
     "output_type": "stream",
     "text": [
      "COPY 1109381\r\n"
     ]
    }
   ],
   "source": [
    "!psql -U postgres -d msddatabase -c \"\\copy artist_term from ./data_files/artist_term_cleared.csv DELIMITER ',' CSV\""
   ]
  },
  {
   "cell_type": "code",
   "execution_count": 109,
   "metadata": {},
   "outputs": [
    {
     "name": "stdout",
     "output_type": "stream",
     "text": [
      "COPY 24777\r\n"
     ]
    }
   ],
   "source": [
    "!psql -U postgres -d msddatabase -c \"\\copy artist_mbtag from ./data_files/artist_mbtag_cleared.csv DELIMITER ',' CSV\""
   ]
  },
  {
   "cell_type": "code",
   "execution_count": 110,
   "metadata": {},
   "outputs": [
    {
     "name": "stdout",
     "output_type": "stream",
     "text": [
      "COPY 59600\r\n"
     ]
    }
   ],
   "source": [
    "!psql -U postgres -d msddatabase -c \"\\copy msd_genre_dataset from ./data_files/msd_genre_dataset_cleared.csv DELIMITER ',' CSV\""
   ]
  },
  {
   "cell_type": "code",
   "execution_count": 111,
   "metadata": {},
   "outputs": [
    {
     "name": "stdout",
     "output_type": "stream",
     "text": [
      "COPY 44745\r\n"
     ]
    }
   ],
   "source": [
    "!psql -U postgres -d msddatabase -c \"\\copy unique_artists from ./data_files/unique_artists_cleared.csv DELIMITER ',' CSV\""
   ]
  },
  {
   "cell_type": "code",
   "execution_count": null,
   "metadata": {},
   "outputs": [],
   "source": []
  },
  {
   "cell_type": "markdown",
   "metadata": {},
   "source": [
    "### From Staging to Data Warehouse\n",
    "Until this point, we have created out staging tables. \n",
    "They do not have any constraints, primary keys or indexes because of fast bulk insert.\n",
    "\n",
    "But now we want to apply some analytic queries. \n",
    "So we are going to create our analytics tables.\n",
    "\n",
    "These are:\n",
    "- Dimensional tables (dim_artists, dim_tracks, dim_artist_similarities)"
   ]
  },
  {
   "cell_type": "code",
   "execution_count": null,
   "metadata": {},
   "outputs": [],
   "source": []
  },
  {
   "cell_type": "markdown",
   "metadata": {},
   "source": [
    "__dim_artists table__"
   ]
  },
  {
   "cell_type": "code",
   "execution_count": 4,
   "metadata": {},
   "outputs": [
    {
     "name": "stdout",
     "output_type": "stream",
     "text": [
      " * postgres://postgres@localhost/msddatabase\n",
      "Done.\n"
     ]
    },
    {
     "data": {
      "text/plain": [
       "[]"
      ]
     },
     "execution_count": 4,
     "metadata": {},
     "output_type": "execute_result"
    }
   ],
   "source": [
    "%%sql\n",
    "-- create dim_artists table\n",
    "create table dim_artists\n",
    "(\n",
    "    artist_id         text PRIMARY KEY,\n",
    "    artist_mbid       text,\n",
    "    artist_name       text,\n",
    "    artist_latitude   double precision,\n",
    "    artist_longitude  double precision,\n",
    "    artist_location   text,\n",
    "    mbtags            text,\n",
    "    terms             text\n",
    ");"
   ]
  },
  {
   "cell_type": "code",
   "execution_count": 5,
   "metadata": {},
   "outputs": [
    {
     "name": "stdout",
     "output_type": "stream",
     "text": [
      " * postgres://postgres@localhost/msddatabase\n",
      "44745 rows affected.\n"
     ]
    },
    {
     "data": {
      "text/plain": [
       "[]"
      ]
     },
     "execution_count": 5,
     "metadata": {},
     "output_type": "execute_result"
    }
   ],
   "source": [
    "%%sql\n",
    "-- insert into dim_artists table\n",
    "INSERT INTO dim_artists\n",
    "SELECT\n",
    "       ua.artist_id,\n",
    "       ua.artist_mbid,\n",
    "       ua.artist_name,\n",
    "       al.artist_latitude,\n",
    "       al.artist_longitude,\n",
    "       al.artist_location,\n",
    "       am.mbtags,\n",
    "       at.terms\n",
    "FROM unique_artists ua\n",
    "LEFT JOIN artist_location al on ua.artist_id = al.artist_id\n",
    "LEFT JOIN (\n",
    "\n",
    "    SELECT\n",
    "    artist_id,\n",
    "    string_agg(mbtag, ', ') AS mbtags\n",
    "    FROM artist_mbtag\n",
    "    GROUP BY artist_id\n",
    "\n",
    ") am on al.artist_id = am.artist_id\n",
    "LEFT JOIN (\n",
    "\n",
    "    SELECT\n",
    "    artist_id,\n",
    "    string_agg(term, ', ') AS terms\n",
    "    FROM artist_term\n",
    "    GROUP BY artist_id\n",
    "\n",
    ") at on al.artist_id = at.artist_id;"
   ]
  },
  {
   "cell_type": "code",
   "execution_count": null,
   "metadata": {},
   "outputs": [],
   "source": []
  },
  {
   "cell_type": "markdown",
   "metadata": {},
   "source": [
    "__dim_tracks table__"
   ]
  },
  {
   "cell_type": "code",
   "execution_count": 7,
   "metadata": {},
   "outputs": [
    {
     "name": "stdout",
     "output_type": "stream",
     "text": [
      " * postgres://postgres@localhost/msddatabase\n",
      "Done.\n"
     ]
    },
    {
     "data": {
      "text/plain": [
       "[]"
      ]
     },
     "execution_count": 7,
     "metadata": {},
     "output_type": "execute_result"
    }
   ],
   "source": [
    "%%sql\n",
    "-- create dim_tracks table\n",
    "create table dim_tracks\n",
    "(\n",
    "    track_id             text PRIMARY KEY,\n",
    "    song_id              text,\n",
    "    artist_id            text REFERENCES dim_artists(artist_id),\n",
    "    title                text,\n",
    "    release              text,\n",
    "    year                 integer,\n",
    "    duration             double precision,\n",
    "    artist_familiarity   double precision,\n",
    "    artist_hotttnesss    double precision,\n",
    "    track_7digitalid     integer,\n",
    "    shs_perf             integer,\n",
    "    shs_work             integer,\n",
    "    genre                text,\n",
    "    loudness             double precision,\n",
    "    tempo                double precision\n",
    ");"
   ]
  },
  {
   "cell_type": "code",
   "execution_count": 13,
   "metadata": {},
   "outputs": [
    {
     "name": "stdout",
     "output_type": "stream",
     "text": [
      " * postgres://postgres@localhost/msddatabase\n",
      "Done.\n"
     ]
    },
    {
     "data": {
      "text/plain": [
       "[]"
      ]
     },
     "execution_count": 13,
     "metadata": {},
     "output_type": "execute_result"
    }
   ],
   "source": [
    "%%sql\n",
    "CREATE INDEX idx_tracks_song ON dim_tracks(song_id);"
   ]
  },
  {
   "cell_type": "code",
   "execution_count": 8,
   "metadata": {},
   "outputs": [
    {
     "name": "stdout",
     "output_type": "stream",
     "text": [
      " * postgres://postgres@localhost/msddatabase\n",
      "1000000 rows affected.\n"
     ]
    },
    {
     "data": {
      "text/plain": [
       "[]"
      ]
     },
     "execution_count": 8,
     "metadata": {},
     "output_type": "execute_result"
    }
   ],
   "source": [
    "%%sql\n",
    "-- insert into dim_tracks table\n",
    "INSERT INTO dim_tracks\n",
    "SELECT\n",
    "       tm.track_id,\n",
    "       tm.song_id,\n",
    "       tm.artist_id,\n",
    "       tm.title,\n",
    "       tm.release,\n",
    "       tm.year,\n",
    "       tm.duration,\n",
    "       tm.artist_familiarity,\n",
    "       tm.artist_hotttnesss,\n",
    "       tm.track_7digitalid,\n",
    "       tm.shs_perf,\n",
    "       tm.shs_work,\n",
    "       mgd.genre,\n",
    "       mgd.loudness,\n",
    "       mgd.tempo\n",
    "FROM track_metadata tm\n",
    "LEFT JOIN msd_genre_dataset mgd on tm.track_id = mgd.track_id;"
   ]
  },
  {
   "cell_type": "code",
   "execution_count": null,
   "metadata": {},
   "outputs": [],
   "source": []
  },
  {
   "cell_type": "markdown",
   "metadata": {},
   "source": [
    "__dim_artist_similarities table__"
   ]
  },
  {
   "cell_type": "code",
   "execution_count": 9,
   "metadata": {},
   "outputs": [
    {
     "name": "stdout",
     "output_type": "stream",
     "text": [
      " * postgres://postgres@localhost/msddatabase\n",
      "Done.\n"
     ]
    },
    {
     "data": {
      "text/plain": [
       "[]"
      ]
     },
     "execution_count": 9,
     "metadata": {},
     "output_type": "execute_result"
    }
   ],
   "source": [
    "%%sql\n",
    "-- create dim_artist_similarities table\n",
    "create table dim_artist_similarities\n",
    "(\n",
    "    target_artist_id  text REFERENCES dim_artists(artist_id),\n",
    "    similar_artist_id text REFERENCES dim_artists(artist_id)\n",
    ");"
   ]
  },
  {
   "cell_type": "code",
   "execution_count": 12,
   "metadata": {},
   "outputs": [
    {
     "name": "stdout",
     "output_type": "stream",
     "text": [
      " * postgres://postgres@localhost/msddatabase\n",
      "2201916 rows affected.\n"
     ]
    },
    {
     "data": {
      "text/plain": [
       "[]"
      ]
     },
     "execution_count": 12,
     "metadata": {},
     "output_type": "execute_result"
    }
   ],
   "source": [
    "%%sql\n",
    "-- insert into dim_artist_similarities table\n",
    "INSERT INTO dim_artist_similarities\n",
    "SELECT\n",
    "    target_artist_id,\n",
    "    similar_artist_id\n",
    "FROM artist_similarity;"
   ]
  },
  {
   "cell_type": "code",
   "execution_count": null,
   "metadata": {},
   "outputs": [],
   "source": []
  },
  {
   "cell_type": "markdown",
   "metadata": {},
   "source": [
    "### Queries-Analysis-Visualization"
   ]
  },
  {
   "cell_type": "markdown",
   "metadata": {},
   "source": [
    "As our first queries let's describe our tables:"
   ]
  },
  {
   "cell_type": "markdown",
   "metadata": {},
   "source": [
    "__describe dim_artists table__"
   ]
  },
  {
   "cell_type": "code",
   "execution_count": 6,
   "metadata": {},
   "outputs": [
    {
     "name": "stdout",
     "output_type": "stream",
     "text": [
      " * postgres://postgres@localhost/msddatabase\n",
      "1 rows affected.\n"
     ]
    },
    {
     "data": {
      "text/html": [
       "<table>\n",
       "    <tr>\n",
       "        <th>artist_count</th>\n",
       "        <th>artist_location_count</th>\n",
       "        <th>null_artist_location_count</th>\n",
       "    </tr>\n",
       "    <tr>\n",
       "        <td>44745</td>\n",
       "        <td>3989</td>\n",
       "        <td>30899</td>\n",
       "    </tr>\n",
       "</table>"
      ],
      "text/plain": [
       "[(44745, 3989, 30899)]"
      ]
     },
     "execution_count": 6,
     "metadata": {},
     "output_type": "execute_result"
    }
   ],
   "source": [
    "%%sql\n",
    "-- describe dim_artists table\n",
    "SELECT\n",
    "count(*) as artist_count\n",
    ",count(distinct artist_location) as artist_location_count\n",
    ",SUM(CASE WHEN artist_location IS NULL THEN 1 ELSE 0 END) as null_artist_location_count\n",
    "FROM dim_artists;"
   ]
  },
  {
   "cell_type": "code",
   "execution_count": null,
   "metadata": {},
   "outputs": [],
   "source": []
  },
  {
   "cell_type": "markdown",
   "metadata": {},
   "source": [
    "__describe dim_tracks table__"
   ]
  },
  {
   "cell_type": "code",
   "execution_count": 8,
   "metadata": {},
   "outputs": [
    {
     "name": "stdout",
     "output_type": "stream",
     "text": [
      " * postgres://postgres@localhost/msddatabase\n",
      "1 rows affected.\n"
     ]
    },
    {
     "data": {
      "text/html": [
       "<table>\n",
       "    <tr>\n",
       "        <th>track_count</th>\n",
       "        <th>max_duration</th>\n",
       "        <th>min_duration</th>\n",
       "        <th>max_year</th>\n",
       "        <th>min_year</th>\n",
       "        <th>null_year_count</th>\n",
       "        <th>real_min_year</th>\n",
       "        <th>genre_count</th>\n",
       "        <th>null_genre_count</th>\n",
       "    </tr>\n",
       "    <tr>\n",
       "        <td>1000000</td>\n",
       "        <td>3034.90567</td>\n",
       "        <td>0.31302</td>\n",
       "        <td>2011</td>\n",
       "        <td>0</td>\n",
       "        <td>484424</td>\n",
       "        <td>1922</td>\n",
       "        <td>10</td>\n",
       "        <td>940400</td>\n",
       "    </tr>\n",
       "</table>"
      ],
      "text/plain": [
       "[(1000000, 3034.90567, 0.31302, 2011, 0, 484424, 1922, 10, 940400)]"
      ]
     },
     "execution_count": 8,
     "metadata": {},
     "output_type": "execute_result"
    }
   ],
   "source": [
    "%%sql\n",
    "-- describe dim_tracks table\n",
    "SELECT\n",
    "count(*) as track_count\n",
    ",MAX(duration) as max_duration\n",
    ",MIN(duration) as min_duration\n",
    ",MAX(year) as max_year\n",
    ",MIN(year) as min_year\n",
    ",SUM(CASE WHEN year=0 THEN 1 ELSE 0 END) as null_year_count\n",
    ",MIN(CASE WHEN year=0 THEN 9999 ELSE year END) real_min_year\n",
    ",count(distinct genre) as genre_count\n",
    ",SUM(CASE WHEN genre is null THEN 1 ELSE 0 END) as null_genre_count\n",
    "FROM dim_tracks;"
   ]
  },
  {
   "cell_type": "code",
   "execution_count": null,
   "metadata": {},
   "outputs": [],
   "source": []
  },
  {
   "cell_type": "markdown",
   "metadata": {},
   "source": [
    "__describe dim_artist_similarities table__"
   ]
  },
  {
   "cell_type": "code",
   "execution_count": 10,
   "metadata": {},
   "outputs": [
    {
     "name": "stdout",
     "output_type": "stream",
     "text": [
      " * postgres://postgres@localhost/msddatabase\n",
      "1 rows affected.\n"
     ]
    },
    {
     "data": {
      "text/html": [
       "<table>\n",
       "    <tr>\n",
       "        <th>record_count</th>\n",
       "    </tr>\n",
       "    <tr>\n",
       "        <td>2201916</td>\n",
       "    </tr>\n",
       "</table>"
      ],
      "text/plain": [
       "[(2201916,)]"
      ]
     },
     "execution_count": 10,
     "metadata": {},
     "output_type": "execute_result"
    }
   ],
   "source": [
    "%%sql\n",
    "-- describe dim_artist_similarities table\n",
    "SELECT\n",
    "count(*) as record_count\n",
    "FROM dim_artist_similarities;"
   ]
  },
  {
   "cell_type": "code",
   "execution_count": null,
   "metadata": {},
   "outputs": [],
   "source": []
  },
  {
   "cell_type": "markdown",
   "metadata": {},
   "source": [
    "Now we can start making some __analysis__:"
   ]
  },
  {
   "cell_type": "code",
   "execution_count": 4,
   "metadata": {},
   "outputs": [
    {
     "name": "stdout",
     "output_type": "stream",
     "text": [
      " * postgres://postgres@localhost/msddatabase\n",
      "11 rows affected.\n",
      "Returning data to local variable decade_track_metrics\n"
     ]
    }
   ],
   "source": [
    "%%sql decade_track_metrics <<\n",
    "\n",
    "-- how does track count and average song duration change over years\n",
    "SELECT\n",
    "(year / 10) * 10 as decade\n",
    ", avg(duration) as average_duration\n",
    ", count(*) as track_count\n",
    ", avg(loudness) as average_loudness\n",
    ", avg(tempo) as average_tempo\n",
    "FROM dim_tracks\n",
    "GROUP BY (year / 10) * 10;"
   ]
  },
  {
   "cell_type": "code",
   "execution_count": 40,
   "metadata": {},
   "outputs": [
    {
     "data": {
      "text/html": [
       "<div>\n",
       "<style scoped>\n",
       "    .dataframe tbody tr th:only-of-type {\n",
       "        vertical-align: middle;\n",
       "    }\n",
       "\n",
       "    .dataframe tbody tr th {\n",
       "        vertical-align: top;\n",
       "    }\n",
       "\n",
       "    .dataframe thead th {\n",
       "        text-align: right;\n",
       "    }\n",
       "</style>\n",
       "<table border=\"1\" class=\"dataframe\">\n",
       "  <thead>\n",
       "    <tr style=\"text-align: right;\">\n",
       "      <th></th>\n",
       "      <th>decade</th>\n",
       "      <th>average_duration</th>\n",
       "      <th>track_count</th>\n",
       "      <th>average_loudness</th>\n",
       "      <th>average_tempo</th>\n",
       "    </tr>\n",
       "  </thead>\n",
       "  <tbody>\n",
       "    <tr>\n",
       "      <td>0</td>\n",
       "      <td>0</td>\n",
       "      <td>252.301709</td>\n",
       "      <td>484424</td>\n",
       "      <td>-12.572184</td>\n",
       "      <td>121.352995</td>\n",
       "    </tr>\n",
       "    <tr>\n",
       "      <td>1</td>\n",
       "      <td>1920</td>\n",
       "      <td>188.278549</td>\n",
       "      <td>225</td>\n",
       "      <td>-9.725600</td>\n",
       "      <td>172.185400</td>\n",
       "    </tr>\n",
       "    <tr>\n",
       "      <td>2</td>\n",
       "      <td>1930</td>\n",
       "      <td>186.763758</td>\n",
       "      <td>252</td>\n",
       "      <td>NaN</td>\n",
       "      <td>NaN</td>\n",
       "    </tr>\n",
       "    <tr>\n",
       "      <td>3</td>\n",
       "      <td>1940</td>\n",
       "      <td>175.025971</td>\n",
       "      <td>356</td>\n",
       "      <td>-17.706000</td>\n",
       "      <td>99.643000</td>\n",
       "    </tr>\n",
       "    <tr>\n",
       "      <td>4</td>\n",
       "      <td>1950</td>\n",
       "      <td>191.897278</td>\n",
       "      <td>3104</td>\n",
       "      <td>-12.496586</td>\n",
       "      <td>116.604559</td>\n",
       "    </tr>\n",
       "    <tr>\n",
       "      <td>5</td>\n",
       "      <td>1960</td>\n",
       "      <td>204.361138</td>\n",
       "      <td>11741</td>\n",
       "      <td>-12.222682</td>\n",
       "      <td>119.004959</td>\n",
       "    </tr>\n",
       "    <tr>\n",
       "      <td>6</td>\n",
       "      <td>1970</td>\n",
       "      <td>249.353551</td>\n",
       "      <td>24748</td>\n",
       "      <td>-12.021221</td>\n",
       "      <td>123.746938</td>\n",
       "    </tr>\n",
       "    <tr>\n",
       "      <td>7</td>\n",
       "      <td>1980</td>\n",
       "      <td>240.970856</td>\n",
       "      <td>41827</td>\n",
       "      <td>-11.933639</td>\n",
       "      <td>125.693170</td>\n",
       "    </tr>\n",
       "    <tr>\n",
       "      <td>8</td>\n",
       "      <td>1990</td>\n",
       "      <td>248.416682</td>\n",
       "      <td>124808</td>\n",
       "      <td>-11.458078</td>\n",
       "      <td>123.764431</td>\n",
       "    </tr>\n",
       "    <tr>\n",
       "      <td>9</td>\n",
       "      <td>2000</td>\n",
       "      <td>249.150494</td>\n",
       "      <td>299117</td>\n",
       "      <td>-10.002843</td>\n",
       "      <td>122.777300</td>\n",
       "    </tr>\n",
       "    <tr>\n",
       "      <td>10</td>\n",
       "      <td>2010</td>\n",
       "      <td>250.408058</td>\n",
       "      <td>9398</td>\n",
       "      <td>-9.351792</td>\n",
       "      <td>126.365697</td>\n",
       "    </tr>\n",
       "  </tbody>\n",
       "</table>\n",
       "</div>"
      ],
      "text/plain": [
       "    decade  average_duration  track_count  average_loudness  average_tempo\n",
       "0        0        252.301709       484424        -12.572184     121.352995\n",
       "1     1920        188.278549          225         -9.725600     172.185400\n",
       "2     1930        186.763758          252               NaN            NaN\n",
       "3     1940        175.025971          356        -17.706000      99.643000\n",
       "4     1950        191.897278         3104        -12.496586     116.604559\n",
       "5     1960        204.361138        11741        -12.222682     119.004959\n",
       "6     1970        249.353551        24748        -12.021221     123.746938\n",
       "7     1980        240.970856        41827        -11.933639     125.693170\n",
       "8     1990        248.416682       124808        -11.458078     123.764431\n",
       "9     2000        249.150494       299117        -10.002843     122.777300\n",
       "10    2010        250.408058         9398         -9.351792     126.365697"
      ]
     },
     "execution_count": 40,
     "metadata": {},
     "output_type": "execute_result"
    }
   ],
   "source": [
    "decade_track_metrics_df = decade_track_metrics.DataFrame()\n",
    "decade_track_metrics_df"
   ]
  },
  {
   "cell_type": "code",
   "execution_count": 43,
   "metadata": {},
   "outputs": [
    {
     "data": {
      "text/plain": [
       "<matplotlib.axes._subplots.AxesSubplot at 0x124bf2150>"
      ]
     },
     "execution_count": 43,
     "metadata": {},
     "output_type": "execute_result"
    },
    {
     "data": {
      "image/png": "[encoded data removed]",
      "text/plain": [
       "<Figure size 432x288 with 1 Axes>"
      ]
     },
     "metadata": {
      "needs_background": "light"
     },
     "output_type": "display_data"
    }
   ],
   "source": [
    "decade_track_metrics_df[decade_track_metrics_df.decade>0].plot(kind='bar', x='decade', y='track_count')"
   ]
  },
  {
   "cell_type": "markdown",
   "metadata": {},
   "source": [
    "looks like it is growing."
   ]
  },
  {
   "cell_type": "code",
   "execution_count": 15,
   "metadata": {},
   "outputs": [
    {
     "name": "stdout",
     "output_type": "stream",
     "text": [
      " * postgres://postgres@localhost/msddatabase\n",
      "11 rows affected.\n",
      "Returning data to local variable genre_track_metrics\n"
     ]
    }
   ],
   "source": [
    "%%sql genre_track_metrics <<\n",
    "\n",
    "-- some song metrics grouped by genre\n",
    "SELECT\n",
    "       genre\n",
    "     , count(*) as track_count\n",
    "     , avg(duration) as average_duration\n",
    "     , avg(loudness) as average_loudness\n",
    "     , avg(tempo) as average_tempo\n",
    "FROM dim_tracks\n",
    "GROUP BY genre;"
   ]
  },
  {
   "cell_type": "code",
   "execution_count": 21,
   "metadata": {},
   "outputs": [
    {
     "data": {
      "text/html": [
       "<div>\n",
       "<style scoped>\n",
       "    .dataframe tbody tr th:only-of-type {\n",
       "        vertical-align: middle;\n",
       "    }\n",
       "\n",
       "    .dataframe tbody tr th {\n",
       "        vertical-align: top;\n",
       "    }\n",
       "\n",
       "    .dataframe thead th {\n",
       "        text-align: right;\n",
       "    }\n",
       "</style>\n",
       "<table border=\"1\" class=\"dataframe\">\n",
       "  <thead>\n",
       "    <tr style=\"text-align: right;\">\n",
       "      <th></th>\n",
       "      <th>genre</th>\n",
       "      <th>track_count</th>\n",
       "      <th>average_duration</th>\n",
       "      <th>average_loudness</th>\n",
       "      <th>average_tempo</th>\n",
       "    </tr>\n",
       "  </thead>\n",
       "  <tbody>\n",
       "    <tr>\n",
       "      <td>0</td>\n",
       "      <td>classic pop and rock</td>\n",
       "      <td>23895</td>\n",
       "      <td>233.395161</td>\n",
       "      <td>-10.667476</td>\n",
       "      <td>122.009337</td>\n",
       "    </tr>\n",
       "    <tr>\n",
       "      <td>1</td>\n",
       "      <td>classical</td>\n",
       "      <td>1874</td>\n",
       "      <td>329.959587</td>\n",
       "      <td>-21.521004</td>\n",
       "      <td>106.949386</td>\n",
       "    </tr>\n",
       "    <tr>\n",
       "      <td>2</td>\n",
       "      <td>dance and electronica</td>\n",
       "      <td>4935</td>\n",
       "      <td>296.792939</td>\n",
       "      <td>-11.143464</td>\n",
       "      <td>120.997916</td>\n",
       "    </tr>\n",
       "    <tr>\n",
       "      <td>3</td>\n",
       "      <td>folk</td>\n",
       "      <td>13192</td>\n",
       "      <td>232.970196</td>\n",
       "      <td>-13.002976</td>\n",
       "      <td>122.373236</td>\n",
       "    </tr>\n",
       "    <tr>\n",
       "      <td>4</td>\n",
       "      <td>hip-hop</td>\n",
       "      <td>434</td>\n",
       "      <td>211.086570</td>\n",
       "      <td>-7.957399</td>\n",
       "      <td>123.513647</td>\n",
       "    </tr>\n",
       "    <tr>\n",
       "      <td>5</td>\n",
       "      <td>jazz and blues</td>\n",
       "      <td>4334</td>\n",
       "      <td>345.286831</td>\n",
       "      <td>-15.461960</td>\n",
       "      <td>116.100063</td>\n",
       "    </tr>\n",
       "    <tr>\n",
       "      <td>6</td>\n",
       "      <td>metal</td>\n",
       "      <td>2103</td>\n",
       "      <td>267.129821</td>\n",
       "      <td>-6.417790</td>\n",
       "      <td>135.171199</td>\n",
       "    </tr>\n",
       "    <tr>\n",
       "      <td>7</td>\n",
       "      <td>pop</td>\n",
       "      <td>1617</td>\n",
       "      <td>231.966764</td>\n",
       "      <td>-8.325231</td>\n",
       "      <td>120.607210</td>\n",
       "    </tr>\n",
       "    <tr>\n",
       "      <td>8</td>\n",
       "      <td>punk</td>\n",
       "      <td>3200</td>\n",
       "      <td>189.702315</td>\n",
       "      <td>-7.833063</td>\n",
       "      <td>140.222858</td>\n",
       "    </tr>\n",
       "    <tr>\n",
       "      <td>9</td>\n",
       "      <td>soul and reggae</td>\n",
       "      <td>4016</td>\n",
       "      <td>248.261987</td>\n",
       "      <td>-9.749342</td>\n",
       "      <td>123.884413</td>\n",
       "    </tr>\n",
       "    <tr>\n",
       "      <td>10</td>\n",
       "      <td>None</td>\n",
       "      <td>940400</td>\n",
       "      <td>249.509146</td>\n",
       "      <td>NaN</td>\n",
       "      <td>NaN</td>\n",
       "    </tr>\n",
       "  </tbody>\n",
       "</table>\n",
       "</div>"
      ],
      "text/plain": [
       "                    genre  track_count  average_duration  average_loudness  \\\n",
       "0    classic pop and rock        23895        233.395161        -10.667476   \n",
       "1               classical         1874        329.959587        -21.521004   \n",
       "2   dance and electronica         4935        296.792939        -11.143464   \n",
       "3                    folk        13192        232.970196        -13.002976   \n",
       "4                 hip-hop          434        211.086570         -7.957399   \n",
       "5          jazz and blues         4334        345.286831        -15.461960   \n",
       "6                   metal         2103        267.129821         -6.417790   \n",
       "7                     pop         1617        231.966764         -8.325231   \n",
       "8                    punk         3200        189.702315         -7.833063   \n",
       "9         soul and reggae         4016        248.261987         -9.749342   \n",
       "10                   None       940400        249.509146               NaN   \n",
       "\n",
       "    average_tempo  \n",
       "0      122.009337  \n",
       "1      106.949386  \n",
       "2      120.997916  \n",
       "3      122.373236  \n",
       "4      123.513647  \n",
       "5      116.100063  \n",
       "6      135.171199  \n",
       "7      120.607210  \n",
       "8      140.222858  \n",
       "9      123.884413  \n",
       "10            NaN  "
      ]
     },
     "execution_count": 21,
     "metadata": {},
     "output_type": "execute_result"
    }
   ],
   "source": [
    "genre_track_metrics_df = genre_track_metrics.DataFrame()\n",
    "genre_track_metrics_df"
   ]
  },
  {
   "cell_type": "code",
   "execution_count": 35,
   "metadata": {},
   "outputs": [
    {
     "data": {
      "text/plain": [
       "<matplotlib.axes._subplots.AxesSubplot at 0x1244d0f10>"
      ]
     },
     "execution_count": 35,
     "metadata": {},
     "output_type": "execute_result"
    },
    {
     "data": {
      "image/png": "[encoded data removed]",
      "text/plain": [
       "<Figure size 432x288 with 1 Axes>"
      ]
     },
     "metadata": {},
     "output_type": "display_data"
    }
   ],
   "source": [
    "genre_track_metrics_df[genre_track_metrics_df.genre.notnull()].plot.pie(x='genre',y='track_count')"
   ]
  },
  {
   "cell_type": "markdown",
   "metadata": {},
   "source": [
    "There are lots of classic pop and rock songs."
   ]
  },
  {
   "cell_type": "code",
   "execution_count": 37,
   "metadata": {},
   "outputs": [
    {
     "name": "stdout",
     "output_type": "stream",
     "text": [
      " * postgres://postgres@localhost/msddatabase\n",
      "10 rows affected.\n",
      "Returning data to local variable location_track_metrics\n"
     ]
    }
   ],
   "source": [
    "%%sql location_track_metrics <<\n",
    "\n",
    "-- we have track data and artist location. \n",
    "-- Let s join and use them together to find top 10 locations \n",
    "\n",
    "SELECT\n",
    "da.artist_location\n",
    ",count(*) as track_count\n",
    ",avg(artist_familiarity) as average_familiarity\n",
    ",avg(artist_hotttnesss) as average_hotttness\n",
    "FROM dim_tracks dt\n",
    "INNER JOIN dim_artists da\n",
    "    on dt.artist_id = da.artist_id\n",
    "WHERE artist_location IS NOT NULL\n",
    "group by da.artist_location\n",
    "order by count(*) DESC\n",
    "LIMIT 10;"
   ]
  },
  {
   "cell_type": "markdown",
   "metadata": {},
   "source": [
    "Apparently, USA dominates the list."
   ]
  },
  {
   "cell_type": "code",
   "execution_count": 38,
   "metadata": {},
   "outputs": [
    {
     "data": {
      "text/html": [
       "<div>\n",
       "<style scoped>\n",
       "    .dataframe tbody tr th:only-of-type {\n",
       "        vertical-align: middle;\n",
       "    }\n",
       "\n",
       "    .dataframe tbody tr th {\n",
       "        vertical-align: top;\n",
       "    }\n",
       "\n",
       "    .dataframe thead th {\n",
       "        text-align: right;\n",
       "    }\n",
       "</style>\n",
       "<table border=\"1\" class=\"dataframe\">\n",
       "  <thead>\n",
       "    <tr style=\"text-align: right;\">\n",
       "      <th></th>\n",
       "      <th>artist_location</th>\n",
       "      <th>track_count</th>\n",
       "      <th>average_familiarity</th>\n",
       "      <th>average_hotttness</th>\n",
       "    </tr>\n",
       "  </thead>\n",
       "  <tbody>\n",
       "    <tr>\n",
       "      <td>0</td>\n",
       "      <td>New York, NY</td>\n",
       "      <td>9934</td>\n",
       "      <td>0.586066</td>\n",
       "      <td>0.399133</td>\n",
       "    </tr>\n",
       "    <tr>\n",
       "      <td>1</td>\n",
       "      <td>London, England</td>\n",
       "      <td>9248</td>\n",
       "      <td>0.632220</td>\n",
       "      <td>0.435872</td>\n",
       "    </tr>\n",
       "    <tr>\n",
       "      <td>2</td>\n",
       "      <td>Los Angeles, CA</td>\n",
       "      <td>8064</td>\n",
       "      <td>0.615478</td>\n",
       "      <td>0.432570</td>\n",
       "    </tr>\n",
       "    <tr>\n",
       "      <td>3</td>\n",
       "      <td>California - LA</td>\n",
       "      <td>7566</td>\n",
       "      <td>0.535725</td>\n",
       "      <td>0.353925</td>\n",
       "    </tr>\n",
       "    <tr>\n",
       "      <td>4</td>\n",
       "      <td>NY - New York City</td>\n",
       "      <td>7382</td>\n",
       "      <td>0.527035</td>\n",
       "      <td>0.348591</td>\n",
       "    </tr>\n",
       "    <tr>\n",
       "      <td>5</td>\n",
       "      <td>Chicago, IL</td>\n",
       "      <td>6493</td>\n",
       "      <td>0.588671</td>\n",
       "      <td>0.407407</td>\n",
       "    </tr>\n",
       "    <tr>\n",
       "      <td>6</td>\n",
       "      <td>California</td>\n",
       "      <td>4719</td>\n",
       "      <td>0.558708</td>\n",
       "      <td>0.372704</td>\n",
       "    </tr>\n",
       "    <tr>\n",
       "      <td>7</td>\n",
       "      <td>Texas</td>\n",
       "      <td>4314</td>\n",
       "      <td>0.518483</td>\n",
       "      <td>0.340027</td>\n",
       "    </tr>\n",
       "    <tr>\n",
       "      <td>8</td>\n",
       "      <td>Detroit, MI</td>\n",
       "      <td>4259</td>\n",
       "      <td>0.573249</td>\n",
       "      <td>0.383915</td>\n",
       "    </tr>\n",
       "    <tr>\n",
       "      <td>9</td>\n",
       "      <td>Philadelphia, PA</td>\n",
       "      <td>4050</td>\n",
       "      <td>0.565915</td>\n",
       "      <td>0.388201</td>\n",
       "    </tr>\n",
       "  </tbody>\n",
       "</table>\n",
       "</div>"
      ],
      "text/plain": [
       "      artist_location  track_count  average_familiarity  average_hotttness\n",
       "0        New York, NY         9934             0.586066           0.399133\n",
       "1     London, England         9248             0.632220           0.435872\n",
       "2     Los Angeles, CA         8064             0.615478           0.432570\n",
       "3     California - LA         7566             0.535725           0.353925\n",
       "4  NY - New York City         7382             0.527035           0.348591\n",
       "5         Chicago, IL         6493             0.588671           0.407407\n",
       "6          California         4719             0.558708           0.372704\n",
       "7               Texas         4314             0.518483           0.340027\n",
       "8         Detroit, MI         4259             0.573249           0.383915\n",
       "9    Philadelphia, PA         4050             0.565915           0.388201"
      ]
     },
     "execution_count": 38,
     "metadata": {},
     "output_type": "execute_result"
    }
   ],
   "source": [
    "location_track_metrics_df = location_track_metrics.DataFrame()\n",
    "location_track_metrics_df"
   ]
  },
  {
   "cell_type": "code",
   "execution_count": 39,
   "metadata": {},
   "outputs": [
    {
     "data": {
      "text/plain": [
       "<matplotlib.axes._subplots.AxesSubplot at 0x124a42210>"
      ]
     },
     "execution_count": 39,
     "metadata": {},
     "output_type": "execute_result"
    },
    {
     "data": {
      "image/png": "[encoded data removed]",
      "text/plain": [
       "<Figure size 432x288 with 1 Axes>"
      ]
     },
     "metadata": {
      "needs_background": "light"
     },
     "output_type": "display_data"
    }
   ],
   "source": [
    "location_track_metrics_df.plot.barh(x='artist_location', y='track_count')"
   ]
  },
  {
   "cell_type": "markdown",
   "metadata": {},
   "source": [
    "From now on we are going to write some specific queries based on our taste"
   ]
  },
  {
   "cell_type": "code",
   "execution_count": 44,
   "metadata": {},
   "outputs": [
    {
     "name": "stdout",
     "output_type": "stream",
     "text": [
      " * postgres://postgres@localhost/msddatabase\n",
      "10 rows affected.\n"
     ]
    },
    {
     "data": {
      "text/html": [
       "<table>\n",
       "    <tr>\n",
       "        <th>artist_name</th>\n",
       "        <th>track_count</th>\n",
       "        <th>average_familiarity</th>\n",
       "        <th>average_hotttness</th>\n",
       "    </tr>\n",
       "    <tr>\n",
       "        <td>Michael Jackson</td>\n",
       "        <td>91</td>\n",
       "        <td>0.8636704636638903</td>\n",
       "        <td>0.826207231714978</td>\n",
       "    </tr>\n",
       "    <tr>\n",
       "        <td>The Rolling Stones</td>\n",
       "        <td>38</td>\n",
       "        <td>0.8290918274552631</td>\n",
       "        <td>0.7474929467632107</td>\n",
       "    </tr>\n",
       "    <tr>\n",
       "        <td>Rod Stewart featuring Dolly Parton</td>\n",
       "        <td>2</td>\n",
       "        <td>0.795658307546</td>\n",
       "        <td>0.672644420276</td>\n",
       "    </tr>\n",
       "    <tr>\n",
       "        <td>The Clash</td>\n",
       "        <td>46</td>\n",
       "        <td>0.779469909327674</td>\n",
       "        <td>0.6031488305004565</td>\n",
       "    </tr>\n",
       "    <tr>\n",
       "        <td>The Pogues</td>\n",
       "        <td>21</td>\n",
       "        <td>0.7777016150560001</td>\n",
       "        <td>0.5868967149360002</td>\n",
       "    </tr>\n",
       "    <tr>\n",
       "        <td>The Cure</td>\n",
       "        <td>127</td>\n",
       "        <td>0.8103451347660393</td>\n",
       "        <td>0.585755690565228</td>\n",
       "    </tr>\n",
       "    <tr>\n",
       "        <td>Crowded House</td>\n",
       "        <td>19</td>\n",
       "        <td>0.716403119292</td>\n",
       "        <td>0.5828670624440001</td>\n",
       "    </tr>\n",
       "    <tr>\n",
       "        <td>P J Harvey</td>\n",
       "        <td>74</td>\n",
       "        <td>0.8171071250439187</td>\n",
       "        <td>0.5816139740925677</td>\n",
       "    </tr>\n",
       "    <tr>\n",
       "        <td>David Bowie</td>\n",
       "        <td>39</td>\n",
       "        <td>0.8643728118890257</td>\n",
       "        <td>0.5814580212457693</td>\n",
       "    </tr>\n",
       "    <tr>\n",
       "        <td>Robbie Williams</td>\n",
       "        <td>29</td>\n",
       "        <td>0.8497668823434827</td>\n",
       "        <td>0.5772380725865518</td>\n",
       "    </tr>\n",
       "</table>"
      ],
      "text/plain": [
       "[('Michael Jackson', 91, 0.8636704636638903, 0.826207231714978),\n",
       " ('The Rolling Stones', 38, 0.8290918274552631, 0.7474929467632107),\n",
       " ('Rod Stewart featuring Dolly Parton', 2, 0.795658307546, 0.672644420276),\n",
       " ('The Clash', 46, 0.779469909327674, 0.6031488305004565),\n",
       " ('The Pogues', 21, 0.7777016150560001, 0.5868967149360002),\n",
       " ('The Cure', 127, 0.8103451347660393, 0.585755690565228),\n",
       " ('Crowded House', 19, 0.716403119292, 0.5828670624440001),\n",
       " ('P J Harvey', 74, 0.8171071250439187, 0.5816139740925677),\n",
       " ('David Bowie', 39, 0.8643728118890257, 0.5814580212457693),\n",
       " ('Robbie Williams', 29, 0.8497668823434827, 0.5772380725865518)]"
      ]
     },
     "execution_count": 44,
     "metadata": {},
     "output_type": "execute_result"
    }
   ],
   "source": [
    "%%sql\n",
    "\n",
    "-- we love 80s and 90s brit music. Lets view hottest artists of it:\n",
    "    \n",
    "SELECT\n",
    "da.artist_name\n",
    ",count(*) as track_count\n",
    ",avg(artist_familiarity) as average_familiarity\n",
    ",avg(artist_hotttnesss) as average_hotttness\n",
    "FROM dim_tracks dt\n",
    "INNER JOIN dim_artists da\n",
    "    on dt.artist_id = da.artist_id\n",
    "WHERE (\n",
    "    artist_location LIKE 'UK'\n",
    "    OR artist_location LIKE '%England%'\n",
    "    OR artist_location LIKE '%London%'\n",
    "    OR artist_location LIKE '%UK%'\n",
    ")\n",
    "AND year between 1980 and 2000\n",
    "group by da.artist_name\n",
    "order by avg(artist_hotttnesss) DESC\n",
    "LIMIT 10;"
   ]
  },
  {
   "cell_type": "code",
   "execution_count": null,
   "metadata": {},
   "outputs": [],
   "source": []
  },
  {
   "cell_type": "code",
   "execution_count": 45,
   "metadata": {},
   "outputs": [
    {
     "name": "stdout",
     "output_type": "stream",
     "text": [
      " * postgres://postgres@localhost/msddatabase\n",
      "10 rows affected.\n"
     ]
    },
    {
     "data": {
      "text/html": [
       "<table>\n",
       "    <tr>\n",
       "        <th>artist_name</th>\n",
       "        <th>title</th>\n",
       "        <th>release</th>\n",
       "        <th>year</th>\n",
       "        <th>artist_familiarity</th>\n",
       "        <th>artist_hotttnesss</th>\n",
       "        <th>artist_location</th>\n",
       "    </tr>\n",
       "    <tr>\n",
       "        <td>The Doors</td>\n",
       "        <td>Who Do You Love [Live At The Matrix]</td>\n",
       "        <td>Live At The Matrix</td>\n",
       "        <td>0</td>\n",
       "        <td>0.876829927182</td>\n",
       "        <td>0.584116573124</td>\n",
       "        <td>Los Angeles, California, United States</td>\n",
       "    </tr>\n",
       "    <tr>\n",
       "        <td>The Doors</td>\n",
       "        <td>The Unknown Soldier ( LP Version )</td>\n",
       "        <td>Waiting For The Sun</td>\n",
       "        <td>1968</td>\n",
       "        <td>0.876829927182</td>\n",
       "        <td>0.584116573124</td>\n",
       "        <td>Los Angeles, California, United States</td>\n",
       "    </tr>\n",
       "    <tr>\n",
       "        <td>The Doors</td>\n",
       "        <td>The Woman Is A Devil / Rock Me [Live At The Matrix]</td>\n",
       "        <td>Live At The Matrix</td>\n",
       "        <td>0</td>\n",
       "        <td>0.876829927182</td>\n",
       "        <td>0.575027536335</td>\n",
       "        <td>Los Angeles, California, United States</td>\n",
       "    </tr>\n",
       "    <tr>\n",
       "        <td>The Doors</td>\n",
       "        <td>Five To One (Live in Pittsburgh_ May 2_ 1970)</td>\n",
       "        <td>Live In Pittsburgh 1970</td>\n",
       "        <td>2008</td>\n",
       "        <td>0.876829927182</td>\n",
       "        <td>0.584116573124</td>\n",
       "        <td>Los Angeles, California, United States</td>\n",
       "    </tr>\n",
       "    <tr>\n",
       "        <td>The Doors</td>\n",
       "        <td>Crossroads (Live In Boston_ 1970) (1st Show)</td>\n",
       "        <td>Live In Boston 1970</td>\n",
       "        <td>0</td>\n",
       "        <td>0.876829927182</td>\n",
       "        <td>0.575027536335</td>\n",
       "        <td>Los Angeles, California, United States</td>\n",
       "    </tr>\n",
       "    <tr>\n",
       "        <td>The Doors</td>\n",
       "        <td>Summertime (Light My Fire Continued) (Live In Boston_ 1970) (2nd Show)</td>\n",
       "        <td>Live In Boston 1970</td>\n",
       "        <td>0</td>\n",
       "        <td>0.876829927182</td>\n",
       "        <td>0.584116573124</td>\n",
       "        <td>Los Angeles, California, United States</td>\n",
       "    </tr>\n",
       "    <tr>\n",
       "        <td>The Doors</td>\n",
       "        <td>Twentieth Century Fox [Live At The Matrix]</td>\n",
       "        <td>Live At The Matrix</td>\n",
       "        <td>0</td>\n",
       "        <td>0.876829927182</td>\n",
       "        <td>0.575027536335</td>\n",
       "        <td>Los Angeles, California, United States</td>\n",
       "    </tr>\n",
       "    <tr>\n",
       "        <td>The Doors</td>\n",
       "        <td>Rock Me (Live In Boston_ 1970) (1st Show)</td>\n",
       "        <td>Live In Boston 1970</td>\n",
       "        <td>0</td>\n",
       "        <td>0.876829927182</td>\n",
       "        <td>0.584116573124</td>\n",
       "        <td>Los Angeles, California, United States</td>\n",
       "    </tr>\n",
       "    <tr>\n",
       "        <td>The Doors</td>\n",
       "        <td>Push Push (Live in Pittsburgh_ May 2_ 1970)</td>\n",
       "        <td>Live In Pittsburgh 1970</td>\n",
       "        <td>2008</td>\n",
       "        <td>0.876829927182</td>\n",
       "        <td>0.575027536335</td>\n",
       "        <td>Los Angeles, California, United States</td>\n",
       "    </tr>\n",
       "    <tr>\n",
       "        <td>The Doors</td>\n",
       "        <td>Back Door Man (Live In Boston_ 1970) (1st Show)</td>\n",
       "        <td>Live In Boston 1970</td>\n",
       "        <td>0</td>\n",
       "        <td>0.876829927182</td>\n",
       "        <td>0.584116573124</td>\n",
       "        <td>Los Angeles, California, United States</td>\n",
       "    </tr>\n",
       "</table>"
      ],
      "text/plain": [
       "[('The Doors', 'Who Do You Love [Live At The Matrix]', 'Live At The Matrix', 0, 0.876829927182, 0.584116573124, 'Los Angeles, California, United States'),\n",
       " ('The Doors', 'The Unknown Soldier ( LP Version )', 'Waiting For The Sun', 1968, 0.876829927182, 0.584116573124, 'Los Angeles, California, United States'),\n",
       " ('The Doors', 'The Woman Is A Devil / Rock Me [Live At The Matrix]', 'Live At The Matrix', 0, 0.876829927182, 0.575027536335, 'Los Angeles, California, United States'),\n",
       " ('The Doors', 'Five To One (Live in Pittsburgh_ May 2_ 1970)', 'Live In Pittsburgh 1970', 2008, 0.876829927182, 0.584116573124, 'Los Angeles, California, United States'),\n",
       " ('The Doors', 'Crossroads (Live In Boston_ 1970) (1st Show)', 'Live In Boston 1970', 0, 0.876829927182, 0.575027536335, 'Los Angeles, California, United States'),\n",
       " ('The Doors', 'Summertime (Light My Fire Continued) (Live In Boston_ 1970) (2nd Show)', 'Live In Boston 1970', 0, 0.876829927182, 0.584116573124, 'Los Angeles, California, United States'),\n",
       " ('The Doors', 'Twentieth Century Fox [Live At The Matrix]', 'Live At The Matrix', 0, 0.876829927182, 0.575027536335, 'Los Angeles, California, United States'),\n",
       " ('The Doors', 'Rock Me (Live In Boston_ 1970) (1st Show)', 'Live In Boston 1970', 0, 0.876829927182, 0.584116573124, 'Los Angeles, California, United States'),\n",
       " ('The Doors', 'Push Push (Live in Pittsburgh_ May 2_ 1970)', 'Live In Pittsburgh 1970', 2008, 0.876829927182, 0.575027536335, 'Los Angeles, California, United States'),\n",
       " ('The Doors', 'Back Door Man (Live In Boston_ 1970) (1st Show)', 'Live In Boston 1970', 0, 0.876829927182, 0.584116573124, 'Los Angeles, California, United States')]"
      ]
     },
     "execution_count": 45,
     "metadata": {},
     "output_type": "execute_result"
    }
   ],
   "source": [
    "%%sql\n",
    "\n",
    "-- best acid rock songs and artists\n",
    "\n",
    "SELECT\n",
    "       artist_name\n",
    "     ,title,release\n",
    "     ,year\n",
    "     ,artist_familiarity\n",
    "     ,artist_hotttnesss\n",
    "     ,artist_location\n",
    "from dim_tracks dt\n",
    "INNER JOIN dim_artists da on dt.artist_id = da.artist_id\n",
    "WHERE upper(da.mbtags) LIKE '%ACID ROCK%'\n",
    "ORDER BY dt.artist_familiarity DESC\n",
    "LIMIT 10;"
   ]
  },
  {
   "cell_type": "code",
   "execution_count": 46,
   "metadata": {},
   "outputs": [
    {
     "name": "stdout",
     "output_type": "stream",
     "text": [
      " * postgres://postgres@localhost/msddatabase\n",
      "10 rows affected.\n"
     ]
    },
    {
     "data": {
      "text/html": [
       "<table>\n",
       "    <tr>\n",
       "        <th>title</th>\n",
       "        <th>artist_name</th>\n",
       "        <th>artist_location</th>\n",
       "        <th>year</th>\n",
       "    </tr>\n",
       "    <tr>\n",
       "        <td>Istanbul</td>\n",
       "        <td>Tom Tykwer_ Johnny Klimek_ Reinhold Heil</td>\n",
       "        <td>None</td>\n",
       "        <td>2009</td>\n",
       "    </tr>\n",
       "    <tr>\n",
       "        <td>Istanbul</td>\n",
       "        <td>Paul Webster</td>\n",
       "        <td>None</td>\n",
       "        <td>2009</td>\n",
       "    </tr>\n",
       "    <tr>\n",
       "        <td>Istanbul</td>\n",
       "        <td>Paul Webster</td>\n",
       "        <td>None</td>\n",
       "        <td>2009</td>\n",
       "    </tr>\n",
       "    <tr>\n",
       "        <td>Striptease In Istanbul</td>\n",
       "        <td>Wax Poetic</td>\n",
       "        <td>None</td>\n",
       "        <td>2008</td>\n",
       "    </tr>\n",
       "    <tr>\n",
       "        <td>Istanbul</td>\n",
       "        <td>The Breeders</td>\n",
       "        <td>Boston</td>\n",
       "        <td>2008</td>\n",
       "    </tr>\n",
       "    <tr>\n",
       "        <td>Istanbul Lighthouse</td>\n",
       "        <td>Wax Poetic</td>\n",
       "        <td>None</td>\n",
       "        <td>2007</td>\n",
       "    </tr>\n",
       "    <tr>\n",
       "        <td>Istanbul Agliyor</td>\n",
       "        <td>Tarkan</td>\n",
       "        <td>None</td>\n",
       "        <td>2007</td>\n",
       "    </tr>\n",
       "    <tr>\n",
       "        <td>Istanbul Can Be Dub</td>\n",
       "        <td>Wax Poetic</td>\n",
       "        <td>None</td>\n",
       "        <td>2007</td>\n",
       "    </tr>\n",
       "    <tr>\n",
       "        <td>Sensiz istanbul&#x27;a düsmanim</td>\n",
       "        <td>Gripin</td>\n",
       "        <td>None</td>\n",
       "        <td>2007</td>\n",
       "    </tr>\n",
       "    <tr>\n",
       "        <td>Istanbul (Not Constantinople)</td>\n",
       "        <td>Ska Cubano</td>\n",
       "        <td>None</td>\n",
       "        <td>2006</td>\n",
       "    </tr>\n",
       "</table>"
      ],
      "text/plain": [
       "[('Istanbul', 'Tom Tykwer_ Johnny Klimek_ Reinhold Heil', None, 2009),\n",
       " ('Istanbul', 'Paul Webster', None, 2009),\n",
       " ('Istanbul', 'Paul Webster', None, 2009),\n",
       " ('Striptease In Istanbul', 'Wax Poetic', None, 2008),\n",
       " ('Istanbul', 'The Breeders', 'Boston', 2008),\n",
       " ('Istanbul Lighthouse', 'Wax Poetic', None, 2007),\n",
       " ('Istanbul Agliyor', 'Tarkan', None, 2007),\n",
       " ('Istanbul Can Be Dub', 'Wax Poetic', None, 2007),\n",
       " (\"Sensiz istanbul'a düsmanim\", 'Gripin', None, 2007),\n",
       " ('Istanbul (Not Constantinople)', 'Ska Cubano', None, 2006)]"
      ]
     },
     "execution_count": 46,
     "metadata": {},
     "output_type": "execute_result"
    }
   ],
   "source": [
    "%%sql\n",
    "\n",
    "-- songs about Istanbul\n",
    "\n",
    "select t.title,da.artist_name,da.artist_location,t.year from dim_tracks t\n",
    "INNER JOIN dim_artists da on t.artist_id = da.artist_id\n",
    "where upper(t.title) LIKE '%ISTANBUL%'\n",
    "ORDER BY t.year DESC\n",
    "LIMIT 10;"
   ]
  },
  {
   "cell_type": "code",
   "execution_count": 48,
   "metadata": {},
   "outputs": [
    {
     "name": "stdout",
     "output_type": "stream",
     "text": [
      " * postgres://postgres@localhost/msddatabase\n",
      "10 rows affected.\n"
     ]
    },
    {
     "data": {
      "text/html": [
       "<table>\n",
       "    <tr>\n",
       "        <th>target_location</th>\n",
       "        <th>similar_location</th>\n",
       "        <th>artist_count</th>\n",
       "    </tr>\n",
       "    <tr>\n",
       "        <td>Los Angeles, CA</td>\n",
       "        <td>New York, NY</td>\n",
       "        <td>327</td>\n",
       "    </tr>\n",
       "    <tr>\n",
       "        <td>New York, NY</td>\n",
       "        <td>NY - New York City</td>\n",
       "        <td>298</td>\n",
       "    </tr>\n",
       "    <tr>\n",
       "        <td>New York, NY</td>\n",
       "        <td>Los Angeles, CA</td>\n",
       "        <td>270</td>\n",
       "    </tr>\n",
       "    <tr>\n",
       "        <td>Kingston, Jamaica</td>\n",
       "        <td>Jamaica</td>\n",
       "        <td>238</td>\n",
       "    </tr>\n",
       "    <tr>\n",
       "        <td>Chicago, IL</td>\n",
       "        <td>New York, NY</td>\n",
       "        <td>233</td>\n",
       "    </tr>\n",
       "    <tr>\n",
       "        <td>Los Angeles, CA</td>\n",
       "        <td>Chicago, IL</td>\n",
       "        <td>210</td>\n",
       "    </tr>\n",
       "    <tr>\n",
       "        <td>New York, NY</td>\n",
       "        <td>Chicago, IL</td>\n",
       "        <td>208</td>\n",
       "    </tr>\n",
       "    <tr>\n",
       "        <td>Los Angeles, CA</td>\n",
       "        <td>California - LA</td>\n",
       "        <td>207</td>\n",
       "    </tr>\n",
       "    <tr>\n",
       "        <td>New York, NY</td>\n",
       "        <td>California - LA</td>\n",
       "        <td>193</td>\n",
       "    </tr>\n",
       "    <tr>\n",
       "        <td>London, England</td>\n",
       "        <td>New York, NY</td>\n",
       "        <td>192</td>\n",
       "    </tr>\n",
       "</table>"
      ],
      "text/plain": [
       "[('Los Angeles, CA', 'New York, NY', 327),\n",
       " ('New York, NY', 'NY - New York City', 298),\n",
       " ('New York, NY', 'Los Angeles, CA', 270),\n",
       " ('Kingston, Jamaica', 'Jamaica', 238),\n",
       " ('Chicago, IL', 'New York, NY', 233),\n",
       " ('Los Angeles, CA', 'Chicago, IL', 210),\n",
       " ('New York, NY', 'Chicago, IL', 208),\n",
       " ('Los Angeles, CA', 'California - LA', 207),\n",
       " ('New York, NY', 'California - LA', 193),\n",
       " ('London, England', 'New York, NY', 192)]"
      ]
     },
     "execution_count": 48,
     "metadata": {},
     "output_type": "execute_result"
    }
   ],
   "source": [
    "%%sql\n",
    "\n",
    "-- similarity doubles grouped by location\n",
    "\n",
    "SELECT da.artist_location as target_location\n",
    ",da2.artist_location as similar_location\n",
    ",count(*) as artist_count\n",
    "FROM dim_artist_similarities ds\n",
    "INNER JOIN dim_artists da on ds.similar_artist_id = da.artist_id\n",
    "INNER JOIN dim_artists da2 on ds.target_artist_id = da2.artist_id\n",
    "WHERE\n",
    "da.artist_location IS NOT NULL\n",
    "AND da2.artist_location IS NOT NULL\n",
    "AND da.artist_location!=da2.artist_location\n",
    "GROUP BY da.artist_location,da2.artist_location\n",
    "ORDER BY count(*) DESC\n",
    "LIMIT 10;"
   ]
  },
  {
   "cell_type": "code",
   "execution_count": 49,
   "metadata": {},
   "outputs": [
    {
     "name": "stdout",
     "output_type": "stream",
     "text": [
      " * postgres://postgres@localhost/msddatabase\n",
      "1 rows affected.\n"
     ]
    },
    {
     "data": {
      "text/html": [
       "<table>\n",
       "    <tr>\n",
       "        <th>total_duration_of_boris_vian</th>\n",
       "    </tr>\n",
       "    <tr>\n",
       "        <td>10228.666720000001</td>\n",
       "    </tr>\n",
       "</table>"
      ],
      "text/plain": [
       "[(10228.666720000001,)]"
      ]
     },
     "execution_count": 49,
     "metadata": {},
     "output_type": "execute_result"
    }
   ],
   "source": [
    "%%sql\n",
    "\n",
    "-- total duration of Boris Vian\n",
    "\n",
    "select\n",
    "sum(duration) total_duration_of_boris_vian\n",
    "from dim_artists a, dim_tracks t\n",
    "where upper(a.artist_name) like '%BORIS VIAN%'\n",
    "and  a.artist_id = t.artist_id"
   ]
  },
  {
   "cell_type": "code",
   "execution_count": 50,
   "metadata": {},
   "outputs": [
    {
     "name": "stdout",
     "output_type": "stream",
     "text": [
      " * postgres://postgres@localhost/msddatabase\n",
      "9 rows affected.\n"
     ]
    },
    {
     "data": {
      "text/html": [
       "<table>\n",
       "    <tr>\n",
       "        <th>artist_name</th>\n",
       "        <th>artist_location</th>\n",
       "        <th>track_count</th>\n",
       "    </tr>\n",
       "    <tr>\n",
       "        <td>Bruno Sanfilippo</td>\n",
       "        <td>Buenos Aires</td>\n",
       "        <td>49</td>\n",
       "    </tr>\n",
       "    <tr>\n",
       "        <td>Agression</td>\n",
       "        <td>Oxnard, CA</td>\n",
       "        <td>39</td>\n",
       "    </tr>\n",
       "    <tr>\n",
       "        <td>Kuba</td>\n",
       "        <td>Latvia</td>\n",
       "        <td>35</td>\n",
       "    </tr>\n",
       "    <tr>\n",
       "        <td>Psychic Ills</td>\n",
       "        <td>New York, NY</td>\n",
       "        <td>22</td>\n",
       "    </tr>\n",
       "    <tr>\n",
       "        <td>Harold Budd And Brian Eno</td>\n",
       "        <td>Great Britain / UK</td>\n",
       "        <td>21</td>\n",
       "    </tr>\n",
       "    <tr>\n",
       "        <td>Max Corbacho</td>\n",
       "        <td>Spain</td>\n",
       "        <td>13</td>\n",
       "    </tr>\n",
       "    <tr>\n",
       "        <td>Shoshannah</td>\n",
       "        <td>United States</td>\n",
       "        <td>12</td>\n",
       "    </tr>\n",
       "    <tr>\n",
       "        <td>Byron Metcalf</td>\n",
       "        <td>Prescott, AZ</td>\n",
       "        <td>11</td>\n",
       "    </tr>\n",
       "    <tr>\n",
       "        <td>David Ryan Harris</td>\n",
       "        <td>California - LA</td>\n",
       "        <td>1</td>\n",
       "    </tr>\n",
       "</table>"
      ],
      "text/plain": [
       "[('Bruno Sanfilippo', 'Buenos Aires', 49),\n",
       " ('Agression', 'Oxnard, CA', 39),\n",
       " ('Kuba', 'Latvia', 35),\n",
       " ('Psychic Ills', 'New York, NY', 22),\n",
       " ('Harold Budd And Brian Eno', 'Great Britain / UK', 21),\n",
       " ('Max Corbacho', 'Spain', 13),\n",
       " ('Shoshannah', 'United States', 12),\n",
       " ('Byron Metcalf', 'Prescott, AZ', 11),\n",
       " ('David Ryan Harris', 'California - LA', 1)]"
      ]
     },
     "execution_count": 50,
     "metadata": {},
     "output_type": "execute_result"
    }
   ],
   "source": [
    "%%sql\n",
    "\n",
    "-- MYSTIC song composers\n",
    "\n",
    "select l.artist_name,artist_location,count(*) as track_count\n",
    "from dim_artists l\n",
    "inner join dim_tracks dt on l.artist_id = dt.artist_id\n",
    "where upper(l.terms) like '%MYSTIC%'\n",
    "group by l.artist_name,artist_location\n",
    "order by count(*) desc\n",
    "LIMIT 10;"
   ]
  },
  {
   "cell_type": "code",
   "execution_count": null,
   "metadata": {},
   "outputs": [],
   "source": []
  },
  {
   "cell_type": "code",
   "execution_count": 52,
   "metadata": {},
   "outputs": [
    {
     "name": "stdout",
     "output_type": "stream",
     "text": [
      " * postgres://postgres@localhost/msddatabase\n",
      "10 rows affected.\n"
     ]
    },
    {
     "data": {
      "text/html": [
       "<table>\n",
       "    <tr>\n",
       "        <th>year</th>\n",
       "        <th>track_count</th>\n",
       "    </tr>\n",
       "    <tr>\n",
       "        <td>2010</td>\n",
       "        <td>69</td>\n",
       "    </tr>\n",
       "    <tr>\n",
       "        <td>2009</td>\n",
       "        <td>135</td>\n",
       "    </tr>\n",
       "    <tr>\n",
       "        <td>2008</td>\n",
       "        <td>153</td>\n",
       "    </tr>\n",
       "    <tr>\n",
       "        <td>2007</td>\n",
       "        <td>157</td>\n",
       "    </tr>\n",
       "    <tr>\n",
       "        <td>2006</td>\n",
       "        <td>223</td>\n",
       "    </tr>\n",
       "    <tr>\n",
       "        <td>2005</td>\n",
       "        <td>145</td>\n",
       "    </tr>\n",
       "    <tr>\n",
       "        <td>2004</td>\n",
       "        <td>194</td>\n",
       "    </tr>\n",
       "    <tr>\n",
       "        <td>2003</td>\n",
       "        <td>183</td>\n",
       "    </tr>\n",
       "    <tr>\n",
       "        <td>2002</td>\n",
       "        <td>140</td>\n",
       "    </tr>\n",
       "    <tr>\n",
       "        <td>2001</td>\n",
       "        <td>174</td>\n",
       "    </tr>\n",
       "</table>"
      ],
      "text/plain": [
       "[(2010, 69),\n",
       " (2009, 135),\n",
       " (2008, 153),\n",
       " (2007, 157),\n",
       " (2006, 223),\n",
       " (2005, 145),\n",
       " (2004, 194),\n",
       " (2003, 183),\n",
       " (2002, 140),\n",
       " (2001, 174)]"
      ]
     },
     "execution_count": 52,
     "metadata": {},
     "output_type": "execute_result"
    }
   ],
   "source": [
    "%%sql\n",
    "\n",
    "-- song count amorphis and similar to amorphis by year\n",
    "\n",
    "select year, count(*) track_count\n",
    "from dim_tracks\n",
    "where artist_id in\n",
    "(\n",
    "select s.similar_artist_id\n",
    "from dim_artists a\n",
    "inner join dim_artist_similarities s on s.target_artist_id = a.artist_id\n",
    "where a.artist_name = 'Amorphis'\n",
    "union\n",
    "select a.artist_id\n",
    "from dim_artists a\n",
    "where a.artist_name = 'Amorphis'\n",
    ")\n",
    "group by year\n",
    "ORDER BY year DESC\n",
    "LIMIT 10;"
   ]
  },
  {
   "cell_type": "code",
   "execution_count": 53,
   "metadata": {},
   "outputs": [
    {
     "name": "stdout",
     "output_type": "stream",
     "text": [
      " * postgres://postgres@localhost/msddatabase\n",
      "10 rows affected.\n"
     ]
    },
    {
     "data": {
      "text/html": [
       "<table>\n",
       "    <tr>\n",
       "        <th>title</th>\n",
       "        <th>release</th>\n",
       "        <th>year</th>\n",
       "        <th>artist_hotttnesss</th>\n",
       "    </tr>\n",
       "    <tr>\n",
       "        <td>Maybe Tomorrow</td>\n",
       "        <td>Gold</td>\n",
       "        <td>1986</td>\n",
       "        <td>0.911299157453</td>\n",
       "    </tr>\n",
       "    <tr>\n",
       "        <td>All The Things You Are</td>\n",
       "        <td>Anthology: The Best Of  Michael Jackson</td>\n",
       "        <td>1973</td>\n",
       "        <td>0.911299157453</td>\n",
       "    </tr>\n",
       "    <tr>\n",
       "        <td>Scream</td>\n",
       "        <td>HIStory - PAST_ PRESENT AND FUTURE - Book I</td>\n",
       "        <td>2008</td>\n",
       "        <td>0.911299157453</td>\n",
       "    </tr>\n",
       "    <tr>\n",
       "        <td>Stagger Lee</td>\n",
       "        <td>Godfather Of Soul</td>\n",
       "        <td>0</td>\n",
       "        <td>0.911299157453</td>\n",
       "    </tr>\n",
       "    <tr>\n",
       "        <td>This Is It</td>\n",
       "        <td>Michael Jackson&#x27;s This Is It</td>\n",
       "        <td>2009</td>\n",
       "        <td>0.911299157453</td>\n",
       "    </tr>\n",
       "    <tr>\n",
       "        <td>You&#x27;ve Really Got A Hold On Me</td>\n",
       "        <td>Hello World - The Motown Solo Collection</td>\n",
       "        <td>1984</td>\n",
       "        <td>0.911299157453</td>\n",
       "    </tr>\n",
       "    <tr>\n",
       "        <td>2 Bad</td>\n",
       "        <td>BLOOD ON THE DANCE FLOOR/ HIStory In The Mix</td>\n",
       "        <td>1995</td>\n",
       "        <td>0.899991594263</td>\n",
       "    </tr>\n",
       "    <tr>\n",
       "        <td>Bad</td>\n",
       "        <td>Michael Jackson: The Ultimate Collection</td>\n",
       "        <td>1987</td>\n",
       "        <td>0.899991594263</td>\n",
       "    </tr>\n",
       "    <tr>\n",
       "        <td>Smooth Criminal (Radio Edit)</td>\n",
       "        <td>Michael Jackson: The Ultimate Collection</td>\n",
       "        <td>2008</td>\n",
       "        <td>0.899991594263</td>\n",
       "    </tr>\n",
       "    <tr>\n",
       "        <td>You&#x27;re The Only One</td>\n",
       "        <td>Soulsation! The 25th Anniversary Collection</td>\n",
       "        <td>0</td>\n",
       "        <td>0.899991594263</td>\n",
       "    </tr>\n",
       "</table>"
      ],
      "text/plain": [
       "[('Maybe Tomorrow', 'Gold', 1986, 0.911299157453),\n",
       " ('All The Things You Are', 'Anthology: The Best Of  Michael Jackson', 1973, 0.911299157453),\n",
       " ('Scream', 'HIStory - PAST_ PRESENT AND FUTURE - Book I', 2008, 0.911299157453),\n",
       " ('Stagger Lee', 'Godfather Of Soul', 0, 0.911299157453),\n",
       " ('This Is It', \"Michael Jackson's This Is It\", 2009, 0.911299157453),\n",
       " (\"You've Really Got A Hold On Me\", 'Hello World - The Motown Solo Collection', 1984, 0.911299157453),\n",
       " ('2 Bad', 'BLOOD ON THE DANCE FLOOR/ HIStory In The Mix', 1995, 0.899991594263),\n",
       " ('Bad', 'Michael Jackson: The Ultimate Collection', 1987, 0.899991594263),\n",
       " ('Smooth Criminal (Radio Edit)', 'Michael Jackson: The Ultimate Collection', 2008, 0.899991594263),\n",
       " (\"You're The Only One\", 'Soulsation! The 25th Anniversary Collection', 0, 0.899991594263)]"
      ]
     },
     "execution_count": 53,
     "metadata": {},
     "output_type": "execute_result"
    }
   ],
   "source": [
    "%%sql\n",
    "\n",
    "--top 10 songs in uk\n",
    "\n",
    "select title,release,year,artist_hotttnesss\n",
    "from dim_tracks\n",
    "where artist_id in\n",
    "(\n",
    "select artist_id from dim_artists\n",
    "where artist_latitude between 50.5 and 58.5\n",
    "and artist_longitude between -5.8 and 1.3\n",
    ")\n",
    "order by artist_hotttnesss desc\n",
    "limit 10;"
   ]
  },
  {
   "cell_type": "code",
   "execution_count": 55,
   "metadata": {},
   "outputs": [
    {
     "name": "stdout",
     "output_type": "stream",
     "text": [
      " * postgres://postgres@localhost/msddatabase\n",
      "21 rows affected.\n"
     ]
    },
    {
     "data": {
      "text/html": [
       "<table>\n",
       "    <tr>\n",
       "        <th>artist_name</th>\n",
       "        <th>title</th>\n",
       "        <th>year</th>\n",
       "        <th>artist_hotttnesss</th>\n",
       "        <th>rownr</th>\n",
       "    </tr>\n",
       "    <tr>\n",
       "        <td>Sam Cooke</td>\n",
       "        <td>Summertime</td>\n",
       "        <td>1960</td>\n",
       "        <td>0.568430226383</td>\n",
       "        <td>1</td>\n",
       "    </tr>\n",
       "    <tr>\n",
       "        <td>Ben E. King</td>\n",
       "        <td>This Magic Moment</td>\n",
       "        <td>1961</td>\n",
       "        <td>0.484178405858</td>\n",
       "        <td>1</td>\n",
       "    </tr>\n",
       "    <tr>\n",
       "        <td>Mahalia Jackson</td>\n",
       "        <td>Sweet little Jesus boy</td>\n",
       "        <td>1962</td>\n",
       "        <td>0.58898661628</td>\n",
       "        <td>1</td>\n",
       "    </tr>\n",
       "    <tr>\n",
       "        <td>Sam Cooke</td>\n",
       "        <td>(I Love You) For Sentimental Reasons</td>\n",
       "        <td>1963</td>\n",
       "        <td>0.568430226383</td>\n",
       "        <td>1</td>\n",
       "    </tr>\n",
       "    <tr>\n",
       "        <td>Sam Cooke</td>\n",
       "        <td>Tennessee Waltz</td>\n",
       "        <td>1964</td>\n",
       "        <td>0.568430226383</td>\n",
       "        <td>1</td>\n",
       "    </tr>\n",
       "    <tr>\n",
       "        <td>The Supremes</td>\n",
       "        <td>You Send Me</td>\n",
       "        <td>1965</td>\n",
       "        <td>0.514958267094</td>\n",
       "        <td>1</td>\n",
       "    </tr>\n",
       "    <tr>\n",
       "        <td>Wilson Pickett</td>\n",
       "        <td>Land Of 1000 Dances</td>\n",
       "        <td>1966</td>\n",
       "        <td>0.526894287038</td>\n",
       "        <td>1</td>\n",
       "    </tr>\n",
       "    <tr>\n",
       "        <td>Sam Cooke</td>\n",
       "        <td>Sad Mood</td>\n",
       "        <td>1967</td>\n",
       "        <td>0.568430226383</td>\n",
       "        <td>1</td>\n",
       "    </tr>\n",
       "    <tr>\n",
       "        <td>Mahalia Jackson</td>\n",
       "        <td>No Room At The Inn</td>\n",
       "        <td>1968</td>\n",
       "        <td>0.58898661628</td>\n",
       "        <td>1</td>\n",
       "    </tr>\n",
       "    <tr>\n",
       "        <td>Al Green</td>\n",
       "        <td>What Am I Gonna Do With Myself?</td>\n",
       "        <td>1969</td>\n",
       "        <td>0.599210493315</td>\n",
       "        <td>1</td>\n",
       "    </tr>\n",
       "    <tr>\n",
       "        <td>Tyrannosaurus Rex</td>\n",
       "        <td>Pavilions Of Sun</td>\n",
       "        <td>1970</td>\n",
       "        <td>0.541284513101</td>\n",
       "        <td>1</td>\n",
       "    </tr>\n",
       "    <tr>\n",
       "        <td>Bill Withers</td>\n",
       "        <td>Grandma&#x27;s Hands</td>\n",
       "        <td>1971</td>\n",
       "        <td>0.609645729187</td>\n",
       "        <td>1</td>\n",
       "    </tr>\n",
       "    <tr>\n",
       "        <td>Bill Withers</td>\n",
       "        <td>Lean On Me</td>\n",
       "        <td>1972</td>\n",
       "        <td>0.609645729187</td>\n",
       "        <td>1</td>\n",
       "    </tr>\n",
       "    <tr>\n",
       "        <td>Bill Withers</td>\n",
       "        <td>I Can&#x27;t Write Left-Handed</td>\n",
       "        <td>1973</td>\n",
       "        <td>0.609645729187</td>\n",
       "        <td>1</td>\n",
       "    </tr>\n",
       "    <tr>\n",
       "        <td>Kris Kristofferson</td>\n",
       "        <td>Broken Freedom Song</td>\n",
       "        <td>1974</td>\n",
       "        <td>0.524922358278</td>\n",
       "        <td>1</td>\n",
       "    </tr>\n",
       "    <tr>\n",
       "        <td>Journey &amp; Mental Broadcast</td>\n",
       "        <td>Kohoutek</td>\n",
       "        <td>1975</td>\n",
       "        <td>0.703801347793</td>\n",
       "        <td>1</td>\n",
       "    </tr>\n",
       "    <tr>\n",
       "        <td>Carpenters</td>\n",
       "        <td>Boat To Sail</td>\n",
       "        <td>1976</td>\n",
       "        <td>0.541055264726</td>\n",
       "        <td>1</td>\n",
       "    </tr>\n",
       "    <tr>\n",
       "        <td>Journey &amp; Mental Broadcast</td>\n",
       "        <td>People</td>\n",
       "        <td>1977</td>\n",
       "        <td>0.703801347793</td>\n",
       "        <td>1</td>\n",
       "    </tr>\n",
       "    <tr>\n",
       "        <td>Amy Grant</td>\n",
       "        <td>I Know Better Now</td>\n",
       "        <td>1978</td>\n",
       "        <td>0.655027440971</td>\n",
       "        <td>1</td>\n",
       "    </tr>\n",
       "    <tr>\n",
       "        <td>Journey &amp; Mental Broadcast</td>\n",
       "        <td>Just The Same Way</td>\n",
       "        <td>1979</td>\n",
       "        <td>0.703801347793</td>\n",
       "        <td>1</td>\n",
       "    </tr>\n",
       "    <tr>\n",
       "        <td>Al Green</td>\n",
       "        <td>In The Holy Name Of Jesus</td>\n",
       "        <td>1980</td>\n",
       "        <td>0.599210493315</td>\n",
       "        <td>1</td>\n",
       "    </tr>\n",
       "</table>"
      ],
      "text/plain": [
       "[('Sam Cooke', 'Summertime', 1960, 0.568430226383, 1),\n",
       " ('Ben E. King', 'This Magic Moment', 1961, 0.484178405858, 1),\n",
       " ('Mahalia Jackson', 'Sweet little Jesus boy', 1962, 0.58898661628, 1),\n",
       " ('Sam Cooke', '(I Love You) For Sentimental Reasons', 1963, 0.568430226383, 1),\n",
       " ('Sam Cooke', 'Tennessee Waltz', 1964, 0.568430226383, 1),\n",
       " ('The Supremes', 'You Send Me', 1965, 0.514958267094, 1),\n",
       " ('Wilson Pickett', 'Land Of 1000 Dances', 1966, 0.526894287038, 1),\n",
       " ('Sam Cooke', 'Sad Mood', 1967, 0.568430226383, 1),\n",
       " ('Mahalia Jackson', 'No Room At The Inn', 1968, 0.58898661628, 1),\n",
       " ('Al Green', 'What Am I Gonna Do With Myself?', 1969, 0.599210493315, 1),\n",
       " ('Tyrannosaurus Rex', 'Pavilions Of Sun', 1970, 0.541284513101, 1),\n",
       " ('Bill Withers', \"Grandma's Hands\", 1971, 0.609645729187, 1),\n",
       " ('Bill Withers', 'Lean On Me', 1972, 0.609645729187, 1),\n",
       " ('Bill Withers', \"I Can't Write Left-Handed\", 1973, 0.609645729187, 1),\n",
       " ('Kris Kristofferson', 'Broken Freedom Song', 1974, 0.524922358278, 1),\n",
       " ('Journey & Mental Broadcast', 'Kohoutek', 1975, 0.703801347793, 1),\n",
       " ('Carpenters', 'Boat To Sail', 1976, 0.541055264726, 1),\n",
       " ('Journey & Mental Broadcast', 'People', 1977, 0.703801347793, 1),\n",
       " ('Amy Grant', 'I Know Better Now', 1978, 0.655027440971, 1),\n",
       " ('Journey & Mental Broadcast', 'Just The Same Way', 1979, 0.703801347793, 1),\n",
       " ('Al Green', 'In The Holy Name Of Jesus', 1980, 0.599210493315, 1)]"
      ]
     },
     "execution_count": 55,
     "metadata": {},
     "output_type": "execute_result"
    }
   ],
   "source": [
    "%%sql\n",
    "\n",
    "--top slow songs between 1960 and 1980\n",
    "\n",
    "select artist_name, title, year, artist_hotttnesss, rownr\n",
    "from\n",
    "(\n",
    "select a.artist_name, s.title, s.year, s.artist_hotttnesss,\n",
    "row_number() over(\n",
    "    partition by s.year\n",
    "    order by s.artist_hotttnesss desc) rownr\n",
    "from dim_tracks s\n",
    "inner join dim_artists a on a.artist_id = s.artist_id\n",
    "where s.year <= 1980 and s.year >= 1960 and s.tempo < 100\n",
    ") x where rownr = 1\n",
    "order by year;"
   ]
  },
  {
   "cell_type": "code",
   "execution_count": 56,
   "metadata": {},
   "outputs": [
    {
     "name": "stdout",
     "output_type": "stream",
     "text": [
      " * postgres://postgres@localhost/msddatabase\n",
      "10 rows affected.\n"
     ]
    },
    {
     "data": {
      "text/html": [
       "<table>\n",
       "    <tr>\n",
       "        <th>artist_name</th>\n",
       "        <th>title</th>\n",
       "        <th>year</th>\n",
       "        <th>artist_hotttnesss</th>\n",
       "        <th>rownr</th>\n",
       "    </tr>\n",
       "    <tr>\n",
       "        <td>Trey Songz</td>\n",
       "        <td>Ooo (Album Version)</td>\n",
       "        <td>2005</td>\n",
       "        <td>0.8863227203</td>\n",
       "        <td>491</td>\n",
       "    </tr>\n",
       "    <tr>\n",
       "        <td>Linkin Park</td>\n",
       "        <td>Bleed It Out (Album Version)</td>\n",
       "        <td>2007</td>\n",
       "        <td>0.79114300239</td>\n",
       "        <td>1715</td>\n",
       "    </tr>\n",
       "    <tr>\n",
       "        <td>Train</td>\n",
       "        <td>Ramble On</td>\n",
       "        <td>2001</td>\n",
       "        <td>0.783677407954</td>\n",
       "        <td>2096</td>\n",
       "    </tr>\n",
       "    <tr>\n",
       "        <td>Natasha Bedingfield</td>\n",
       "        <td>I Think They&#x27;re Thinking - Interlude</td>\n",
       "        <td>2007</td>\n",
       "        <td>0.769674279295</td>\n",
       "        <td>2512</td>\n",
       "    </tr>\n",
       "    <tr>\n",
       "        <td>Alicia Keys</td>\n",
       "        <td>Samsonite Man</td>\n",
       "        <td>2003</td>\n",
       "        <td>0.751146752452</td>\n",
       "        <td>3028</td>\n",
       "    </tr>\n",
       "    <tr>\n",
       "        <td>Evanescence</td>\n",
       "        <td>My Last Breath</td>\n",
       "        <td>2003</td>\n",
       "        <td>0.705757553231</td>\n",
       "        <td>3861</td>\n",
       "    </tr>\n",
       "    <tr>\n",
       "        <td>Kelly Clarkson</td>\n",
       "        <td>Addicted</td>\n",
       "        <td>2004</td>\n",
       "        <td>0.684478823309</td>\n",
       "        <td>4531</td>\n",
       "    </tr>\n",
       "    <tr>\n",
       "        <td>Third Day</td>\n",
       "        <td>The First Noel</td>\n",
       "        <td>2006</td>\n",
       "        <td>0.642042372557</td>\n",
       "        <td>6291</td>\n",
       "    </tr>\n",
       "    <tr>\n",
       "        <td>Modest Mouse</td>\n",
       "        <td>Satin In A Coffin</td>\n",
       "        <td>2004</td>\n",
       "        <td>0.613120164383</td>\n",
       "        <td>8652</td>\n",
       "    </tr>\n",
       "    <tr>\n",
       "        <td>Mutemath</td>\n",
       "        <td>Chaos (Album Version)</td>\n",
       "        <td>2006</td>\n",
       "        <td>0.608603984729</td>\n",
       "        <td>9226</td>\n",
       "    </tr>\n",
       "</table>"
      ],
      "text/plain": [
       "[('Trey Songz', 'Ooo (Album Version)', 2005, 0.8863227203, 491),\n",
       " ('Linkin Park', 'Bleed It Out (Album Version)', 2007, 0.79114300239, 1715),\n",
       " ('Train', 'Ramble On', 2001, 0.783677407954, 2096),\n",
       " ('Natasha Bedingfield', \"I Think They're Thinking - Interlude\", 2007, 0.769674279295, 2512),\n",
       " ('Alicia Keys', 'Samsonite Man', 2003, 0.751146752452, 3028),\n",
       " ('Evanescence', 'My Last Breath', 2003, 0.705757553231, 3861),\n",
       " ('Kelly Clarkson', 'Addicted', 2004, 0.684478823309, 4531),\n",
       " ('Third Day', 'The First Noel', 2006, 0.642042372557, 6291),\n",
       " ('Modest Mouse', 'Satin In A Coffin', 2004, 0.613120164383, 8652),\n",
       " ('Mutemath', 'Chaos (Album Version)', 2006, 0.608603984729, 9226)]"
      ]
     },
     "execution_count": 56,
     "metadata": {},
     "output_type": "execute_result"
    }
   ],
   "source": [
    "%%sql\n",
    "\n",
    "--random 10 hot songs year after 2000\n",
    "with sng as\n",
    "(\n",
    "select a.artist_name, s.title, s.year, s.artist_hotttnesss,\n",
    "row_number() over(\n",
    "    order by s.artist_hotttnesss desc) rownr\n",
    "from dim_tracks s\n",
    "inner join dim_artists a on a.artist_id = s.artist_id\n",
    "where s.year >= 2000 and s.artist_hotttnesss > 0.6\n",
    ")\n",
    "select * from sng\n",
    "where rownr in\n",
    "(\n",
    "    SELECT (y.maxrownr * random())::int + 1 r_num\n",
    "    FROM generate_series(1,10)\n",
    "    cross join (select max(rownr) maxrownr from sng) y\n",
    "    group by 1\n",
    ")"
   ]
  }
 ],
 "metadata": {
  "kernelspec": {
   "display_name": "Python 3",
   "language": "python",
   "name": "python3"
  },
  "language_info": {
   "codemirror_mode": {
    "name": "ipython",
    "version": 3
   },
   "file_extension": ".py",
   "mimetype": "text/x-python",
   "name": "python",
   "nbconvert_exporter": "python",
   "pygments_lexer": "ipython3",
   "version": "3.7.4"
  }
 },
 "nbformat": 4,
 "nbformat_minor": 2
}
